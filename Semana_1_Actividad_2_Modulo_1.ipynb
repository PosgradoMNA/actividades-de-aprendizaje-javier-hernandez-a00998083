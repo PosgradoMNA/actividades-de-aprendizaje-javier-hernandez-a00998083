{
  "nbformat": 4,
  "nbformat_minor": 0,
  "metadata": {
    "colab": {
      "provenance": [],
      "authorship_tag": "ABX9TyNZE2w7pfujUMgeaBeGqMzs",
      "include_colab_link": true
    },
    "kernelspec": {
      "name": "python3",
      "display_name": "Python 3"
    },
    "language_info": {
      "name": "python"
    }
  },
  "cells": [
    {
      "cell_type": "markdown",
      "metadata": {
        "id": "view-in-github",
        "colab_type": "text"
      },
      "source": [
        "<a href=\"https://colab.research.google.com/github/PosgradoMNA/actividades-de-aprendizaje-javier-hernandez-a00998083/blob/main/Semana_1_Actividad_2_Modulo_1.ipynb\" target=\"_parent\"><img src=\"https://colab.research.google.com/assets/colab-badge.svg\" alt=\"Open In Colab\"/></a>"
      ]
    },
    {
      "cell_type": "code",
      "execution_count": null,
      "metadata": {
        "id": "_mAekSyBMHqt"
      },
      "outputs": [],
      "source": []
    },
    {
      "cell_type": "markdown",
      "source": [
        "Objetivos: \n",
        "identificar variables en python\n",
        "familiarizarse con expresiones y variables\n",
        "capaz de hacer operaciones basicas con strings\n",
        "\n",
        "- crear primeros codigos en jupyter notes"
      ],
      "metadata": {
        "id": "Kzazl2EnMbEP"
      }
    },
    {
      "cell_type": "code",
      "source": [
        "print ('Hello python 101')"
      ],
      "metadata": {
        "colab": {
          "base_uri": "https://localhost:8080/"
        },
        "id": "lc49mq4NMzyK",
        "outputId": "6ef9379c-97de-4455-eadf-b78ecfa92ce4"
      },
      "execution_count": 1,
      "outputs": [
        {
          "output_type": "stream",
          "name": "stdout",
          "text": [
            "Hello python 101\n"
          ]
        }
      ]
    },
    {
      "cell_type": "markdown",
      "source": [
        "primer codigo creado , hello world usando la expresion Print\n",
        "despliega el valor entre las columnas , el valor entre las columnas es llamado argumento\n",
        "- en jupyter notebook , la exprecion va en un rectangulo que se llama \"cell\"\n",
        "- si das click en un celda y corres , la celda se ejecuta y despliega un resultado\n",
        "\n",
        "- un comentario se agrega al codigo usando #\n",
        "- un syntactic error es cuando python no entiende el codigo y vamos a obtner el erro \" syntaxError\"\n",
        "- Un error semantic es cuando Pyhton entiende el codigo , pero no era lo que tratabamos de escribir\n",
        "\n"
      ],
      "metadata": {
        "id": "G5TSsVxWNEUa"
      }
    },
    {
      "cell_type": "code",
      "source": [
        "print(\"Hello\\nWorld!\")"
      ],
      "metadata": {
        "colab": {
          "base_uri": "https://localhost:8080/"
        },
        "id": "QR63rWSbOroe",
        "outputId": "74b9b2ab-ca57-4004-af13-c2993add6c62"
      },
      "execution_count": 2,
      "outputs": [
        {
          "output_type": "stream",
          "name": "stdout",
          "text": [
            "Hello\n",
            "World!\n"
          ]
        }
      ]
    },
    {
      "cell_type": "code",
      "source": [
        "# print('Hello World!')\n"
      ],
      "metadata": {
        "id": "zNr7ioQeOzjD"
      },
      "execution_count": 4,
      "outputs": []
    },
    {
      "cell_type": "markdown",
      "source": [
        "**TYPES**\n",
        "\n",
        "- podemos escribir numeros enteros, decimales y palabras. \n",
        "- que son variables tipo int, float y str respectivamente\n",
        "- si usamos el commando , type(expresion) , nos devuelve el tipo de variable\n",
        "- int son numeros enteros del - infinito al +infinito \n",
        "- las variables float son numeros entre los numeros enteros \n",
        "- hay un limite para los decimales en float\n",
        "- podemos cambiar un valor integer a floar\n",
        "- debemos de tener cuidado ya que no todos los cambios de variable son correctos\n",
        "- si cambiamos un numero decimal a entero , este se va a truncar\n",
        "- boolean values son True y False\n",
        "- bolean true = 1\n",
        "- boolean false = 0"
      ],
      "metadata": {
        "id": "LhKWnZUlPAQ6"
      }
    },
    {
      "cell_type": "code",
      "source": [
        "bool(1)"
      ],
      "metadata": {
        "colab": {
          "base_uri": "https://localhost:8080/"
        },
        "id": "1dEtt_K5Rbfq",
        "outputId": "054a24a9-5a2c-4e02-c8cc-3da9559a3d3e"
      },
      "execution_count": 7,
      "outputs": [
        {
          "output_type": "execute_result",
          "data": {
            "text/plain": [
              "True"
            ]
          },
          "metadata": {},
          "execution_count": 7
        }
      ]
    },
    {
      "cell_type": "markdown",
      "source": [
        "**Expressions and Variables**\n",
        "\n",
        "- la expresion se refiere a un tipo de operacion que la computadora realiza\n",
        "- Expresion , operacion matematica: es un serie de comandos con operaciones matematicas.\n",
        "- operacion con simple Slash / , nos da un resultado float, una operacion con doble slash //, nos da un resultado redondeado integer\n",
        "- cuando hacemos operaciones matematicas con diferente signo , python sigue una jerarquia de operaciones para dar un resultado\n",
        "# Nueva sección variables\n",
        "- variables, usamos variables para guardar datos\n",
        "- podemos usar un nuevo valor a una variable usando el operador de =\n",
        "- si hacemos una operacion cuando creamos una variable , la variable es igual al resultado de la operacion \n",
        "- podemos usar la variable previamente creada para generar otras variables\n",
        "- podemos hacer operaciones con una variable y asignarsela a la misma variable ejem x = 2+ X\n",
        "- podemos usar el type command en variables\n",
        "- es comun de usar el underscore para representar el inicio de una nueva palabra\n",
        "- tambien se puede usar la letra capital\n",
        "- si tenemos dos variables y una es dependiente de la primera, el valor de la segunda cambia si cambiamos la primera , sin modificar el codigo\n",
        "\n",
        "\n",
        "\n",
        "---\n",
        "\n"
      ],
      "metadata": {
        "id": "09By-14oRwPm"
      }
    },
    {
      "cell_type": "markdown",
      "source": [
        "informacion del lab\n",
        "\n",
        "sys.float_info(max=1.7976931348623157e+308, max_exp=1024, max_10_exp=308, min=2.2250738585072014e-308, min_exp=-1021, min_10_exp=-307, dig=15, mant_dig=53, epsilon=2.220446049250313e-16, radix=2, rounds=1)"
      ],
      "metadata": {
        "id": "kBsb9H-mWIcF"
      }
    },
    {
      "cell_type": "markdown",
      "source": [
        "String operations.\n",
        "\n",
        "- los strings pueden ser espacios o digitos\n",
        "- los strings pueden ser caracteres especiales\n",
        "- podemos asignar el string a una variables\n",
        "- despues podemos acceder a ella usando index representados por el array de los numeros\n",
        "- es bueno pensar a una string como un tuple o una lista\n",
        "- podemos usar len para saber el tamanio del string\n",
        "- podemos concatenar strings usando el operador +\n",
        "- podemos multiplacar un string usando el operador *\n",
        "- hya diferentes metodos que aplican a los strings\n",
        "- podemos buscar numeros pares con el siguiente comando numbers[::2]\n",
        "-back slash reprent strings que son dificiles de escribir"
      ],
      "metadata": {
        "id": "HLsFQ_XcWd8X"
      }
    },
    {
      "cell_type": "markdown",
      "source": [],
      "metadata": {
        "id": "tnwTYkukWY4p"
      }
    }
  ]
}