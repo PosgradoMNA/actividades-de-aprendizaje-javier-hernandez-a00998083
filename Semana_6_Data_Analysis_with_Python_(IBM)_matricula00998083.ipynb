{
  "nbformat": 4,
  "nbformat_minor": 0,
  "metadata": {
    "colab": {
      "provenance": [],
      "collapsed_sections": [],
      "authorship_tag": "ABX9TyNVeIK5oQ9wbG/mxQq4NXgd",
      "include_colab_link": true
    },
    "kernelspec": {
      "name": "python3",
      "display_name": "Python 3"
    },
    "language_info": {
      "name": "python"
    }
  },
  "cells": [
    {
      "cell_type": "markdown",
      "metadata": {
        "id": "view-in-github",
        "colab_type": "text"
      },
      "source": [
        "<a href=\"https://colab.research.google.com/github/PosgradoMNA/actividades-de-aprendizaje-javier-hernandez-a00998083/blob/main/Semana_6_Data_Analysis_with_Python_(IBM)_matricula00998083.ipynb\" target=\"_parent\"><img src=\"https://colab.research.google.com/assets/colab-badge.svg\" alt=\"Open In Colab\"/></a>"
      ]
    },
    {
      "cell_type": "code",
      "execution_count": null,
      "metadata": {
        "id": "e7OoB0QzBhcw"
      },
      "outputs": [],
      "source": [
        "Nombre: Francisco javier hernandez Camarillo\n",
        "Matricula: 00998083"
      ]
    },
    {
      "cell_type": "markdown",
      "source": [
        "# Exploratory Data Analysis\n",
        "\n",
        "EDA\n",
        "it is an approach to analyze data in order to \n",
        "\n",
        "1. summarize main characteristics of the data\n",
        "2. gain better understanding of the dataset\n",
        "3. uncover realtaionships between variables\n",
        "4. extract important variables\n",
        "\n",
        "questions for the main problem:\n",
        "\n",
        "what are the characteristics that have the most impact on the car price?\n",
        "a couple of exploratory data analyzis techniques will be reviewed\n",
        "\n",
        "**Learning objectives**\n",
        "\n",
        "descriptive statistics : describe basic features of a dataset and obtains a short summary about the sample and measures.\n",
        "\n",
        "GrouBy: basic of grouping data using groupby and how this can gelp to transform our dataset.\n",
        "\n",
        "ANOVA: the analysis of variance , a statistical method in which the variation in a set of observations is divided into distinct components.\n",
        "\n",
        "correlation : between different variables\n",
        "\n",
        "advance correlation: where it will be introduced to a various correlation statistical methods.\n",
        "  - pearson correlation \n",
        "  - correlation heatmaps\n"
      ],
      "metadata": {
        "id": "umFV7J7RB4Nl"
      }
    },
    {
      "cell_type": "markdown",
      "source": [],
      "metadata": {
        "id": "NSs2mGx9oIvq"
      }
    },
    {
      "cell_type": "markdown",
      "source": [
        "# Descriptive Statistics \n",
        "\n",
        "when we begin to analyze data , it is important to explore data before spend time building complicated methods.\n",
        "one easy way to do so, is to calculate some descritive statistics for our data.\n",
        "\n",
        "Descriptive Statistical Analysis helps to describe basic features of a dataset and obtains a short summary about the sample and measures of the data.\n",
        "\n",
        "describe() pandas: compute basic statistics for all numerical variables. \n",
        "  - it shows the mean, \n",
        "  - the total number of datapoints\n",
        "  - the standar deviation\n",
        "  - the quartiles and the extreme values.\n",
        "  \n",
        "  Any Nan values are automatically skipped\n",
        "\n",
        "value_counts() : we can also have categorical variables. these are variables that can be divided up into different categories or groups and have discrete values. In the example , the drive system is a categorical variable, (forward-wheel drive, rear-wheel drive and four-wheel drive.\n",
        "\n",
        "one way we can summarize the categorical data is by using the function value counts.\n",
        "\n",
        "we can change the name of the columns to make it easier to read.\n",
        "\n",
        "BoxPlots: are great way to visualize the various distributions of the data.\n",
        "\n",
        "the main features that the boxplot shows are the meadian of the data. (which represents where the middle datapoint is.\n",
        "\n",
        "the upper quartile: shows whete the 75th percentile is, \n",
        "the lower quartile: it shows where the 25th perecentile is.\n",
        "\n",
        "the data beetween the upper and lower quartile represents the interquartile range.\n",
        "\n",
        "lower and upper extremes.: calculated as 1.5 times the intercuartile range above the 75th percentile and 1.5 times the iqr below the 25th percentile\n",
        "\n",
        "also always displays outliers as individual dots taht occur outside the upper and lower extremes\n",
        "\n",
        "with boxplot we can easily see spot outliers\n",
        "distribution and skewness of the data.\n",
        "\n",
        "boxplots make it easy to compare between groups.\n",
        "\n"
      ],
      "metadata": {
        "id": "NhngUi5DHx45"
      }
    },
    {
      "cell_type": "markdown",
      "source": [
        "![box-plot-explained.gif](data:image/gif;base64,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)"
      ],
      "metadata": {
        "id": "teH_ziMYYifL"
      }
    },
    {
      "cell_type": "markdown",
      "source": [
        "often times we tend to see continuous variables in our data. these datapoints are numbres , contained in some range.\n",
        "\n",
        "for example , in the example data set, price  and engine size are continous variables\n",
        "\n",
        "what if we wanto to undersand the relationship between \"engine\" size and price.\n",
        "\n",
        "Could engine size possible predict the price of a car?\n",
        "\n",
        "one good way is to use the scatter plot\n",
        "\n",
        "scatter plot: show the relationship between two variables.\n",
        "1. predictor/independent variable\" os the variable that we are suing to predict an outcome.\n",
        "in this case our predictor variable is the engine size\n",
        "x-axis\n",
        "\n",
        "2. the target/dependet varaible: is the variable that we are trying to predict. in this case, our case is the price. \n",
        "y-axis\n",
        "\n",
        "in a scatter plot we usally se the predictor variable in the X-axis , horizontal , and we set the target variable on the y-axis.\n",
        "\n",
        "we plot the one row of the data set in the scatter plot for example , row 1 , x: engine size : 8 , y: price : 2100. and with all \n",
        "\n",
        "matplotlib scatter to plot scatter plots\n",
        "\n",
        "it is important to label the axis\n",
        "\n",
        "\n",
        "\n"
      ],
      "metadata": {
        "id": "YYSmM6iYYvFK"
      }
    },
    {
      "cell_type": "markdown",
      "source": [
        "# GroupBy in Python \n",
        "\n",
        "grouping and how this can help to transform our data set.\n",
        "\n",
        "is there any relationship beetween the different types of \"drive system\"\n",
        "\n",
        "so having different types of drive system , which of these different system adds the most value to the vehicle\n",
        "\n",
        "we can group all data by the different types of the drive wheels\n",
        "and compare against each other\n",
        "\n",
        "command : dataframe.Groupby()\n",
        "  - it is used in categorical variables\n",
        "  - groups the data into subsets according to the different categories of that variable\n",
        "  - we can group by a single variable or multiple variables by passing in multiple variable names\n",
        "\n",
        "it groups in the example by drive-wheels and body-style , and they concatenate them by mean , applying mean to the all data entries in the same group\n",
        "\n",
        "we can cahnge the table , by suing the pivot table\n",
        "\n",
        "pivot()\n",
        "\n",
        "with pivot table we can plot 3 variables, body style , drive-wheels an price\n",
        "\n",
        "other way to represent the pivo table is the heat map\n",
        "\n",
        "it takes a rectangular grid of data and assing a color intensity based on the data value \n",
        "\n",
        "it is great way to plot the target variable over multiple variables and through this get visual clues and the realtionship beetween these variable and the target.\n",
        "\n",
        "plt. to plot the heat map"
      ],
      "metadata": {
        "id": "UVfanAakc3Vt"
      }
    },
    {
      "cell_type": "markdown",
      "source": [
        "Analysis of Variance ANOVA\n",
        "\n",
        "we need to assume that we want to analyze a categorical variable and see the correlation among different categories.\n",
        "\n",
        "how different categories of the Make feature  has impact on the price?\n",
        "\n",
        "But which category in the make feature has the most and which one has the least impact on the car price prediction?\n",
        "\n",
        "to analyze categorical variables we can use the ANOVA method\n",
        "\n",
        "Anova: is a statistical test taht stands for \"Analysis of variance\"\n",
        "\n",
        "ANOVA can be used to find the correlation between different groups of a categorical variable.\n",
        "\n",
        "in the example , we can use ANOVA to see if there is any difference in mean price for the different car makes such as Subaru and Honda.\n",
        "\n",
        "return two values, \n",
        "F-test score : vairation between sample group means divided by the variation within the sample group \n",
        "is like we have 2 groups, each of them whit its ouwn mean , then they are compared to get the difference\n",
        "\n",
        "Since the F-score is small, the correlation between price as the target variable and the\n",
        "groupings is weak.\n",
        "\n",
        "in the second diagram , we see a case where the F-score is large.\n",
        "**The variation between the averages of the two groups is comparable to the variations within the two groups.**\n",
        "\n",
        "\n",
        "P-value: confidence degree, shows whether the obtained result is statistically significant.\n",
        "\n",
        "run an anova test to see if the intuition is correct\n",
        "\n",
        "f_oneway: method for anova\n",
        "\n",
        "comparing with anova , proces beetween hondas and subarus , are not significantly different, as the F-soce is less than 1 and p value is larger than 0.05\n",
        "\n",
        "\n",
        "\n",
        "\n",
        "\n",
        "\n",
        "\n",
        "\n",
        "\n"
      ],
      "metadata": {
        "id": "k6Iz2jTtjCng"
      }
    },
    {
      "cell_type": "code",
      "source": [],
      "metadata": {
        "id": "jy8kdn9UnaQV"
      },
      "execution_count": null,
      "outputs": []
    },
    {
      "cell_type": "markdown",
      "source": [
        "# Correlation \n",
        "\n",
        "Correlation is a statistical metric for measuring to what extent different variables are interdependent.\n",
        "when we look at two variables over time, if one variable changes, how does this effect change in the other variable\n",
        "\n",
        "there is a correlation between “Umbrella” and “Rain” variables,\n",
        "where more precipitation means more people use umbrellas.\n",
        "\n",
        "Therefore, we can say that umbrellas and rain are inter-dependent and by definition they are correlated\n",
        "\n",
        "a correlation doesnt imply a causation\n",
        "we can say umbrela and rain are correlated, but we dond have the enough information to sa y whether the umbrella caused the rain of the rain caused the umbrella\n",
        "it is usually deal more with correlation.\n",
        "\n",
        "we can see and scatter plot and add a regression line \n",
        "\n",
        "The main goal of this plot is to see whether the “engine-size” has any impact on the price.\n",
        "\n",
        "in the example , we can notice the realtitionship between both are steep\n",
        "\n",
        "which shows that there is a positive linear relationship between the two variables.\n",
        "\n",
        "values of price go up as well and the slope of the\n",
        "line is positive, so there is a positive correlation between “engine-size” and “price”.\n",
        "\n",
        "relationship: highway males per gallon\n",
        "\n",
        "in the exaple ,while the vale as og the high way mpg goes up , the value of the price goes down\n",
        "\n",
        "therefore there is a negative linear relationship between highway-mpg and price.\n",
        "\n",
        "this relationship is negative, the slope of the line is steep which means that the highway miles per gallon is still a good predictor of price."
      ],
      "metadata": {
        "id": "8XmekzZboLIv"
      }
    },
    {
      "cell_type": "markdown",
      "source": [
        "# Correlation - Statistics\n",
        "\n",
        "One way to measure the strength of the correlation between continuous numerical variables is by using a method called Pearson Correlation.\n",
        "\n",
        "correlaiton value:\n",
        "\n",
        "The Pearson correlation method, will give you two values, the Correlation coefficient and the p-values.\n",
        "\n",
        " a value close to 1 implies a large positive correlation,\n",
        "\n",
        " -1 implies a large negative correlation and a value close to Zero\n",
        "\n",
        "0 implies no correlation beetween the variables\n",
        "\n",
        "the p-value : will tell us how certain we are about the correlation that we calculated.\n",
        "\n",
        "For the p-value, a value less than 0.001 gives us a strong certainty about the correlation\n",
        "\n",
        "We can say that there is a strong correlation when the correlation coefficient is close to 1 or -1 and the p-value is less than 0.001.\n",
        "\n",
        "In the expample , look at the correlation beetween price and horse power\n",
        "\n",
        "easy you can calculate the Pearson correlation using the Scipy stats package.\n",
        "\n",
        "correlation heatmap\n",
        "\n",
        "Taking all variables into account, we can now create a heatmap that indicates the correlation\n",
        "between each of the variables with one another.\n",
        "\n",
        "the color scheme indicates the pearson correlation coefficient, inidcating the strength of the corrlation between 2 variables\n",
        "\n"
      ],
      "metadata": {
        "id": "cgifXhkqq3DJ"
      }
    },
    {
      "cell_type": "markdown",
      "source": [
        "![Annotation 2022-10-26 001627.png](data:image/png;base64,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)"
      ],
      "metadata": {
        "id": "_zYR8I26uLI-"
      }
    }
  ]
}