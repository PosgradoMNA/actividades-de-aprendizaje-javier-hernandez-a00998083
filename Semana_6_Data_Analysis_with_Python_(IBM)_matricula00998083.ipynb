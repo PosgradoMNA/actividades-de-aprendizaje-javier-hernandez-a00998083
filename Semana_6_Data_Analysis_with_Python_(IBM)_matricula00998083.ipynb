{
  "nbformat": 4,
  "nbformat_minor": 0,
  "metadata": {
    "colab": {
      "provenance": [],
      "authorship_tag": "ABX9TyNtgm2JsDLF/K3bPY/j4JPR"
    },
    "kernelspec": {
      "name": "python3",
      "display_name": "Python 3"
    },
    "language_info": {
      "name": "python"
    }
  },
  "cells": [
    {
      "cell_type": "code",
      "execution_count": null,
      "metadata": {
        "id": "e7OoB0QzBhcw"
      },
      "outputs": [],
      "source": [
        "Nombre: Francisco javier hernandez Camarillo\n",
        "Matricula: 00998083"
      ]
    },
    {
      "cell_type": "markdown",
      "source": [
        "# Exploratory Data Analysis\n",
        "\n",
        "EDA\n",
        "it is an approach to analyze data in order to \n",
        "\n",
        "1. summarize main characteristics of the data\n",
        "2. gain better understanding of the dataset\n",
        "3. uncover realtaionships between variables\n",
        "4. extract important variables\n",
        "\n",
        "questions for the main problem:\n",
        "\n",
        "what are the characteristics that have the most impact on the car price?\n",
        "a couple of exploratory data analyzis techniques will be reviewed\n",
        "\n",
        "**Learning objectives**\n",
        "\n",
        "descriptive statistics : describe basic features of a dataset and obtains a short summary about the sample and measures.\n",
        "\n",
        "GrouBy: basic of grouping data using groupby and how this can gelp to transform our dataset.\n",
        "\n",
        "ANOVA: the analysis of variance , a statistical method in which the variation in a set of observations is divided into distinct components.\n",
        "\n",
        "correlation : between different variables\n",
        "\n",
        "advance correlation: where it will be introduced to a various correlation statistical methods.\n",
        "  - pearson correlation \n",
        "  - correlation heatmaps\n"
      ],
      "metadata": {
        "id": "umFV7J7RB4Nl"
      }
    },
    {
      "cell_type": "markdown",
      "source": [
        "# Descriptive Statistics \n",
        "\n",
        "when we begin to analyze data , it is important to explore data before spend time building complicated methods.\n",
        "one easy way to do so, is to calculate some descritive statistics for our data.\n",
        "\n",
        "Descriptive Statistical Analysis helps to describe basic features of a dataset and obtains a short summary about the sample and measures of the data.\n",
        "\n",
        "describe() pandas: compute basic statistics for all numerical variables. \n",
        "  - it shows the mean, \n",
        "  - the total number of datapoints\n",
        "  - the standar deviation\n",
        "  - the quartiles and the extreme values.\n",
        "  \n",
        "  Any Nan values are automatically skipped\n",
        "\n",
        "value_counts() : we can also have categorical variables. these are variables that can be divided up into different categories or groups and have discrete values. In the example , the drive system is a categorical variable, (forward-wheel drive, rear-wheel drive and four-wheel drive.\n",
        "\n",
        "one way we can summarize the categorical data is by using the function value counts.\n",
        "\n",
        "we can change the name of the columns to make it easier to read.\n",
        "\n",
        "BoxPlots: are great way to visualize the various distributions of the data.\n",
        "\n",
        "the main features that the boxplot shows are the meadian of the data. (which represents where the middle datapoint is.\n",
        "\n",
        "the upper quartile: shows whete the 75th percentile is, \n",
        "the lower quartile: it shows where the 25th perecentile is.\n",
        "\n",
        "the data beetween the upper and lower quartile represents the interquartile range.\n",
        "\n",
        "lower and upper extremes.: calculated as 1.5 times the intercuartile range above the 75th percentile and 1.5 times the iqr below the 25th percentile\n",
        "\n",
        "also always displays outliers as individual dots taht occur outside the upper and lower extremes\n",
        "\n",
        "with boxplot we can easily see spot outliers\n",
        "distribution and skewness of the data.\n",
        "\n",
        "boxplots make it easy to compare between groups.\n",
        "\n"
      ],
      "metadata": {
        "id": "NhngUi5DHx45"
      }
    },
    {
      "cell_type": "markdown",
      "source": [
        "![box-plot-explained.gif](data:image/gif;base64,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)"
      ],
      "metadata": {
        "id": "teH_ziMYYifL"
      }
    },
    {
      "cell_type": "markdown",
      "source": [
        "often times we tend to see continuous variables in our data. these datapoints are numbres , contained in some range.\n",
        "\n",
        "for example , in the example data set, price  and engine size are continous variables\n",
        "\n",
        "what if we wanto to undersand the relationship between \"engine\" size and price.\n",
        "\n",
        "Could engine size possible predict the price of a car?\n",
        "\n",
        "one good way is to use the scatter plot\n",
        "\n",
        "scatter plot: show the relationship between two variables.\n",
        "1. predictor/independent variable\" os the variable that we are suing to predict an outcome.\n",
        "in this case our predictor variable is the engine size\n",
        "x-axis\n",
        "\n",
        "2. the target/dependet varaible: is the variable that we are trying to predict. in this case, our case is the price. \n",
        "y-axis\n",
        "\n",
        "in a scatter plot we usally se the predictor variable in the X-axis , horizontal , and we set the target variable on the y-axis.\n",
        "\n",
        "we plot the one row of the data set in the scatter plot for example , row 1 , x: engine size : 8 , y: price : 2100. and with all \n",
        "\n",
        "matplotlib scatter to plot scatter plots\n",
        "\n",
        "it is important to label the axis\n",
        "\n",
        "\n",
        "\n"
      ],
      "metadata": {
        "id": "YYSmM6iYYvFK"
      }
    },
    {
      "cell_type": "markdown",
      "source": [
        "# GroupBy in Python \n",
        "\n",
        "grouping and how this can help to transform our data set.\n",
        "\n",
        "is there any relationship beetween the different types of \"drive system\"\n",
        "\n",
        "so having different types of drive system , which of these different system adds the most value to the vehicle\n",
        "\n",
        "we can group all data by the different types of the drive wheels\n",
        "and compare against each other\n",
        "\n",
        "command : dataframe.Groupby()\n",
        "  - it is used in categorical variables\n",
        "  - groups the data into subsets according to the different categories of that variable\n",
        "  - we can group by a single variable or multiple variables by passing in multiple variable names\n",
        "\n",
        "it groups in the example by drive-wheels and body-style , and they concatenate them by mean , applying mean to the all data entries in the same group\n",
        "\n",
        "we can cahnge the table , by suing the pivot table\n",
        "\n",
        "pivot()\n",
        "\n",
        "with pivot table we can plot 3 variables, body style , drive-wheels an price\n",
        "\n",
        "other way to represent the pivo table is the heat map\n",
        "\n",
        "it takes a rectangular grid of data and assing a color intensity based on the data value \n",
        "\n",
        "it is great way to plot the target variable over multiple variables and through this get visual clues and the realtionship beetween these variable and the target.\n",
        "\n",
        "plt. to plot the heat map"
      ],
      "metadata": {
        "id": "UVfanAakc3Vt"
      }
    },
    {
      "cell_type": "markdown",
      "source": [
        "Analysis of Variance ANOVA\n",
        "\n",
        "we need to assume that we want to analyze a categorical variable and see the correlation among different categories.\n",
        "\n",
        "how different categories of the Make feature  has impact on the price?\n",
        "\n",
        "But which category in the make feature has the most and which one has the least impact on the car price prediction?\n",
        "\n",
        "to analyze categorical variables we can use the ANOVA method\n",
        "\n",
        "Anova: is a statistical test taht stands for \"Analysis of variance\"\n",
        "\n",
        "ANOVA can be used to find the correlation between different groups of a categorical variable.\n",
        "\n",
        "in the example , we can use ANOVA to see if there is any difference in mean price for the different car makes such as Subaru and Honda.\n",
        "\n",
        "return two values, \n",
        "F-test score : vairation between sample group means divided by the variation within the sample group \n",
        "is like we have 2 groups, each of them whit its ouwn mean , then they are compared to get the difference\n",
        "\n",
        "Since the F-score is small, the correlation between price as the target variable and the\n",
        "groupings is weak.\n",
        "\n",
        "in the second diagram , we see a case where the F-score is large.\n",
        "**The variation between the averages of the two groups is comparable to the variations within the two groups.**\n",
        "\n",
        "\n",
        "P-value: confidence degree, shows whether the obtained result is statistically significant.\n",
        "\n",
        "run an anova test to see if the intuition is correct\n",
        "\n",
        "f_oneway: method for anova\n",
        "\n",
        "comparing with anova , proces beetween hondas and subarus , are not significantly different, as the F-soce is less than 1 and p value is larger than 0.05\n",
        "\n",
        "\n",
        "\n",
        "\n",
        "\n",
        "\n",
        "\n",
        "\n",
        "\n"
      ],
      "metadata": {
        "id": "k6Iz2jTtjCng"
      }
    },
    {
      "cell_type": "code",
      "source": [],
      "metadata": {
        "id": "jy8kdn9UnaQV"
      },
      "execution_count": null,
      "outputs": []
    }
  ]
}