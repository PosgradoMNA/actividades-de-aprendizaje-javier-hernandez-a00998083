{
  "cells": [
    {
      "cell_type": "markdown",
      "metadata": {
        "id": "view-in-github",
        "colab_type": "text"
      },
      "source": [
        "<a href=\"https://colab.research.google.com/github/PosgradoMNA/actividades-de-aprendizaje-javier-hernandez-a00998083/blob/main/Semana_3_Actividad_1.ipynb\" target=\"_parent\"><img src=\"https://colab.research.google.com/assets/colab-badge.svg\" alt=\"Open In Colab\"/></a>"
      ]
    },
    {
      "cell_type": "markdown",
      "metadata": {
        "id": "by0yxp0rc4rj"
      },
      "source": [
        "#  Actividad | Selección y limpieza de los Datos en Python\n",
        "\n",
        "### Integrantes\n",
        "\n",
        "Alumno: **Erick de Jesus Hernández Cerecedo**  \n",
        "Matricula: **A01066428**\n",
        "\n",
        "Alumno: **Francisco Javier Hernández Camarillo**  \n",
        "Matricula: **A00998083**\n",
        "\n",
        "### Información del Curso\n",
        "\n",
        "Nombre: **Ciencia y analítica de datos**  \n",
        "Profesor: **Jobish Vallikavungal Devassia**\n",
        "\n",
        "Fechas: **Martes 4 de octubre de 2022**\n",
        "\n",
        "---"
      ]
    },
    {
      "cell_type": "markdown",
      "metadata": {
        "id": "I64DL0mtc4rk"
      },
      "source": [
        "### Parte 1: Fundamentos de bases de datos"
      ]
    },
    {
      "cell_type": "markdown",
      "metadata": {
        "id": "RgWgkd-ac4rk"
      },
      "source": [
        "##### 1. Fundamentos de bases de datos y para ciencia de datos.  \n",
        "Una **base de datos** es una colección o lista de información organizada de datos relacionados, estas pueden estar compuestas de una o varias listas que reciben por nombre tablas de datos; Las **tablas de datos** a su vez organizan la información en columnas y filas conocidas como campos y registros respectivamente, cada uno de los **campos** cuenta con un nombre que identifica el tipo de información o categoría que se está almacenando en dicha columna, por ejemplo Nombre, Apellido, dirección, ciudad, código postal, teléfono etc., por lo regular el *nombre del campo* está ubicado en la fila superior de una base de datos.  Las **filas** en las bases de datos están compuestas por registros, cada una de ellas puede ser llamada **\"Ttupla** y todos los registros de una tupla pertenecen a un mismo objeto.\n",
        "\n",
        "Los **registros** son la información relacionada que está separada por columnas o campos, es importante diferenciar que un nombre y dirección son registros diferentes en la base de datos.\n",
        "\n",
        "##### 2. Fundamentos de almacenes de datos (Data Warehouse) para ciencia de datos.\n",
        "Un **almacén de datos** es una base de datos gigante o depósito que contiene información de diversas fuentes que están unidas y disponibles en un solo lugar para poder ser analizadas y empleadas como respaldo en la toma de decisiones más informadas.\n",
        "\n",
        "Un **desafío importante de los almacenes de datos (Data Warehouse)** es realizar una *extracción* de datos de diferentes fuentes de información, *transformarlos* en un esquema que permita consultar las fuentes simultáneamente y *obtener* información a través del análisis de los datos, los pasos mencionados anteriormente es conocido **ETL** *(Extraer, Transformar, Cargar)* para posteriormente terminar con el análisis de consulta, la problemática está en que el proceso *ELT* conlleva un **80%** del trabajo de un científico de datos, debido a que si no se hace de manera adecuada el resultado esperado en la obtención de un modelo de Machine Learning resultaría poco confiable o inservible. \n",
        "\n",
        "Actualmente existe un concepto innovador para optimizar el proceso ETL este es llamado **ELT**, que consiste en el uso de bases de datos distribuidas que son bases de datos lógicamente relacionadas en diferentes puntos lógicos y geográficos por ejemplo un servidor con 2 o más máquinas conectadas por la red, en fines prácticos es usar el poder de procesamiento de estas bases distribuidas para cargar la información directa a nuestra colección de datos.\n",
        "\n",
        "Fuentes\n",
        "- Teate, R. M. P. (s. f.). SQL for Data Scientists. O’Reilly Online Learning. Recuperado 4 de octubre de 2022, de https://www.oreilly.com/library/view/sql-for-data/9781119669364/\n",
        "- Kane, F. (s. f.). Hands-On Data Science and Python Machine Learning. O’Reilly Online Learning. Recuperado 4 de octubre de 2022, de https://www.oreilly.com/library/view/hands-on-data-science/9781787280748/"
      ]
    },
    {
      "cell_type": "markdown",
      "metadata": {
        "id": "keiXBgyQc4rm"
      },
      "source": [
        "### Parte 2: Selección y limpieza de los Datos en Python\n"
      ]
    },
    {
      "cell_type": "markdown",
      "metadata": {
        "id": "uhjDOFp-c4rm"
      },
      "source": [
        "##### Lectura de datos"
      ]
    },
    {
      "cell_type": "code",
      "execution_count": null,
      "metadata": {
        "id": "33vkRIYoc4rm",
        "outputId": "a94e31e9-95cc-43dc-b935-1b07b4ad5c95"
      },
      "outputs": [
        {
          "name": "stdout",
          "output_type": "stream",
          "text": [
            "Información de la base de datos: \n",
            "\n",
            "<class 'pandas.core.frame.DataFrame'>\n",
            "Int64Index: 30000 entries, 1 to 30000\n",
            "Data columns (total 24 columns):\n",
            " #   Column  Non-Null Count  Dtype  \n",
            "---  ------  --------------  -----  \n",
            " 0   X1      30000 non-null  int64  \n",
            " 1   X2      29999 non-null  float64\n",
            " 2   X3      29998 non-null  float64\n",
            " 3   X4      29998 non-null  float64\n",
            " 4   X5      29995 non-null  float64\n",
            " 5   X6      29997 non-null  float64\n",
            " 6   X7      29995 non-null  float64\n",
            " 7   X8      29993 non-null  float64\n",
            " 8   X9      29991 non-null  float64\n",
            " 9   X10     29984 non-null  float64\n",
            " 10  X11     29986 non-null  float64\n",
            " 11  X12     29989 non-null  float64\n",
            " 12  X13     29989 non-null  float64\n",
            " 13  X14     29987 non-null  float64\n",
            " 14  X15     29985 non-null  float64\n",
            " 15  X16     29983 non-null  float64\n",
            " 16  X17     29990 non-null  float64\n",
            " 17  X18     29992 non-null  float64\n",
            " 18  X19     29991 non-null  float64\n",
            " 19  X20     29992 non-null  float64\n",
            " 20  X21     29989 non-null  float64\n",
            " 21  X22     29989 non-null  float64\n",
            " 22  X23     29995 non-null  float64\n",
            " 23  Y       29997 non-null  float64\n",
            "dtypes: float64(23), int64(1)\n",
            "memory usage: 5.7 MB\n",
            "None\n",
            "\n",
            "Visualización de datos: \n",
            "\n",
            "        X1   X2   X3   X4    X5   X6   X7   X8   X9  X10  ...      X15  \\\n",
            "ID                                                        ...            \n",
            "1    20000  2.0  2.0  1.0  24.0  2.0  2.0 -1.0 -1.0 -2.0  ...      0.0   \n",
            "2   120000  2.0  2.0  2.0  26.0 -1.0  2.0  0.0  0.0  0.0  ...   3272.0   \n",
            "3    90000  2.0  2.0  2.0  34.0  0.0  0.0  0.0  0.0  0.0  ...  14331.0   \n",
            "4    50000  2.0  2.0  1.0  37.0  0.0  0.0  0.0  0.0  0.0  ...  28314.0   \n",
            "5    50000  1.0  2.0  1.0  57.0 -1.0  0.0 -1.0  0.0  0.0  ...  20940.0   \n",
            "\n",
            "        X16      X17     X18      X19      X20     X21     X22     X23    Y  \n",
            "ID                                                                           \n",
            "1       0.0      0.0     0.0    689.0      0.0     0.0     0.0     0.0  1.0  \n",
            "2    3455.0   3261.0     0.0   1000.0   1000.0  1000.0     0.0  2000.0  1.0  \n",
            "3   14948.0  15549.0  1518.0   1500.0   1000.0  1000.0  1000.0  5000.0  0.0  \n",
            "4   28959.0  29547.0  2000.0   2019.0   1200.0  1100.0  1069.0  1000.0  0.0  \n",
            "5   19146.0  19131.0  2000.0  36681.0  10000.0  9000.0   689.0   679.0  0.0  \n",
            "\n",
            "[5 rows x 24 columns]\n"
          ]
        }
      ],
      "source": [
        "# Importar la librerias necesarias para la actividad\n",
        "import pandas as pd\n",
        "import numpy as np\n",
        "import requests\n",
        "import os\n",
        "\n",
        "# URL de la base de datos\n",
        "url='https://raw.githubusercontent.com/PosgradoMNA/Actividades_Aprendizaje-/main/default%20of%20credit%20card%20clients.csv'\n",
        "\n",
        "# Peticion de los datos\n",
        "r=requests.get(url)\n",
        "\n",
        "# Guardamos los datos en un archivo local con el mismo nombre\n",
        "path=os.path.join(os.getcwd(),'default of credit card clients.csv')  # Obtenemos la direccion del archivo local para guardar la bd\n",
        "with open(path,'wb') as f:                                                   # Crear archivo de datos\n",
        "    f.write(r.content)                                                       # Escribir archivo de datos\n",
        "\n",
        "# Lectura de los datos obtenios CSV\n",
        "data = pd.read_csv(path, index_col=0)\n",
        "print(\"Información de la base de datos: \\n\")\n",
        "print(data.info())\n",
        "print(\"\\nVisualización de datos: \\n\")\n",
        "print(data.head())\n"
      ]
    },
    {
      "cell_type": "code",
      "execution_count": null,
      "metadata": {
        "id": "TGaADKguc4rn",
        "outputId": "44c2ce4a-293b-4a0a-a0a4-53bad57bb6f0"
      },
      "outputs": [
        {
          "name": "stdout",
          "output_type": "stream",
          "text": [
            "Existen null en bd:  True\n",
            "Existen null en cada campo: \n",
            " X1     False\n",
            "X2      True\n",
            "X3      True\n",
            "X4      True\n",
            "X5      True\n",
            "X6      True\n",
            "X7      True\n",
            "X8      True\n",
            "X9      True\n",
            "X10     True\n",
            "X11     True\n",
            "X12     True\n",
            "X13     True\n",
            "X14     True\n",
            "X15     True\n",
            "X16     True\n",
            "X17     True\n",
            "X18     True\n",
            "X19     True\n",
            "X20     True\n",
            "X21     True\n",
            "X22     True\n",
            "X23     True\n",
            "Y       True\n",
            "dtype: bool\n",
            "Existen NaN en bd:  True\n"
          ]
        }
      ],
      "source": [
        "# Verificaciónes de la base de datos\n",
        "\n",
        "# Existen valores vacios en la base?\n",
        "print(\"Existen null en bd: \", data.isnull().values.any())\n",
        "\n",
        "# Existen valores Null en cada na de las columnas?\n",
        "print(\"Existen null en cada campo: \\n\", data.isnull().any())\n",
        "\n",
        "# Existen valores NaN en la bd?\n",
        "print(\"Existen NaN en bd: \", data.isna().values.any())\n"
      ]
    },
    {
      "cell_type": "markdown",
      "metadata": {
        "id": "dZ0ymIgvc4ro"
      },
      "source": [
        "##### Descartar las observaciones con valores faltantes"
      ]
    },
    {
      "cell_type": "code",
      "execution_count": null,
      "metadata": {
        "id": "nRMyl9S5c4ro",
        "outputId": "0a675785-2ed6-4227-ae1c-ae11fbf645cb"
      },
      "outputs": [
        {
          "name": "stdout",
          "output_type": "stream",
          "text": [
            "Existen NaN en bd:  False\n"
          ]
        }
      ],
      "source": [
        "# Descartar los valores NaN\n",
        "data.dropna(inplace = True)\n",
        "\n",
        "# Existen valores NaN en la bd?\n",
        "print(\"Existen NaN en bd: \", data.isna().values.any())\n"
      ]
    },
    {
      "cell_type": "markdown",
      "metadata": {
        "id": "KbRg-Vdkc4ro"
      },
      "source": [
        "##### Descartar las columnas que no consideramos"
      ]
    },
    {
      "cell_type": "code",
      "execution_count": null,
      "metadata": {
        "id": "F8LJGgZ4c4ro",
        "outputId": "a9839c02-826e-4ba0-f167-b09bc8d4f58c"
      },
      "outputs": [
        {
          "name": "stdout",
          "output_type": "stream",
          "text": [
            "Base de datos despues de eliminar las columnas: \n",
            "<class 'pandas.core.frame.DataFrame'>\n",
            "Int64Index: 29958 entries, 1 to 30000\n",
            "Data columns (total 14 columns):\n",
            " #   Column  Non-Null Count  Dtype  \n",
            "---  ------  --------------  -----  \n",
            " 0   X1      29958 non-null  int64  \n",
            " 1   X3      29958 non-null  float64\n",
            " 2   X4      29958 non-null  float64\n",
            " 3   X5      29958 non-null  float64\n",
            " 4   X6      29958 non-null  float64\n",
            " 5   X7      29958 non-null  float64\n",
            " 6   X8      29958 non-null  float64\n",
            " 7   X12     29958 non-null  float64\n",
            " 8   X13     29958 non-null  float64\n",
            " 9   X14     29958 non-null  float64\n",
            " 10  X18     29958 non-null  float64\n",
            " 11  X19     29958 non-null  float64\n",
            " 12  X20     29958 non-null  float64\n",
            " 13  Y       29958 non-null  float64\n",
            "dtypes: float64(13), int64(1)\n",
            "memory usage: 3.4 MB\n",
            "Existen null en bd:  False\n",
            "Existen null en cada campo: \n",
            " X1     False\n",
            "X3     False\n",
            "X4     False\n",
            "X5     False\n",
            "X6     False\n",
            "X7     False\n",
            "X8     False\n",
            "X12    False\n",
            "X13    False\n",
            "X14    False\n",
            "X18    False\n",
            "X19    False\n",
            "X20    False\n",
            "Y      False\n",
            "dtype: bool\n",
            "Existen NaN en bd:  False\n"
          ]
        }
      ],
      "source": [
        "# Eliminación de campos no considerados\n",
        "df = data.drop(columns=['X2', 'X9', 'X10', 'X11', 'X15', 'X16', 'X17', 'X21', 'X22', 'X23'], axis=1)\n",
        "\n",
        "print(\"Base de datos despues de eliminar las columnas: \")\n",
        "\n",
        "df.info()\n",
        "\n",
        "# Existen valores vacios en la base?\n",
        "print(\"Existen null en bd: \", df.isnull().values.any())\n",
        "\n",
        "# Existen valores Null en cada na de las columnas?\n",
        "print(\"Existen null en cada campo: \\n\", df.isnull().any())\n",
        "\n",
        "# Existen valores NaN en la bd?\n",
        "print(\"Existen NaN en bd: \", df.isna().values.any())"
      ]
    },
    {
      "cell_type": "markdown",
      "metadata": {
        "id": "YfU1mx8zc4rp"
      },
      "source": [
        "### Parte 3: Preparación de los datos"
      ]
    },
    {
      "cell_type": "markdown",
      "metadata": {
        "id": "-6FhgEogc4rp"
      },
      "source": [
        "#### **1. ¿Qué datos considero mas importantes? ¿Por qué?**\n",
        "\n",
        "**Respuesta:**  \n",
        "Se analizó la información anexa del la base de datos y se seleccionaron los siguientes campos de la base de datos: \n",
        "        \n",
        "+ **X1** = Monto del crédito dato que esta dado en unidates NT Dollar (Nuevo Dólar Taiwanés), el tipo de dato es de numeros enteros.\n",
        "+ **X3-X5** = Porque son datos que identifican un conjunto de la población de clientes, estos son: \n",
        "\n",
        "    1. **X3:** Nivel de educación.\n",
        "    2. **X4:** Estado Marital.\n",
        "    3. **X5:** Edad.\n",
        "\n",
        "+ **X6-X8** = Historial del estado de los pagos previos, en el que se reastrea la confiabilidad del cliente para realizar sus pagos a tiempo y forma durante los meses Julio - Agosto y Septiembre (2005)\n",
        "\n",
        "    1. -1 Pay duly.\n",
        "    2. 1 Payment delay for one month\n",
        "    3. 2 Payment delay for two months; . . .; 9 Payment delay for nine months and above.\n",
        "\n",
        "+ **X12-X14** = Cuenta pendiente de los últimos 3 meses \n",
        "\n",
        "+ **X18-X20** = Monto de pagos previos de los últimos 3 meses \n",
        "\n",
        "+ **Y** = Valor booleano si se otorgó crédito o no"
      ]
    },
    {
      "cell_type": "markdown",
      "metadata": {
        "id": "vCxcnsWwc4rp"
      },
      "source": [
        "#### **2. ¿Se eliminaron o reemplazaron datos nulos? ¿Qué se hizo y por qué?**\n",
        "\n",
        "**Respuesta:**  \n",
        "Se eliminaron los datos NaN y Null, ya que el numero de tuplas con datos nulos corresponde a un 0.14 % del contenido total, a lo cual consideramos despreciable por ser menor a 5% del volumen total.\n",
        "Las columnas eliminadas fueron:\n",
        "- X2: Genero del cliente.\n",
        "- X9 - X11 = Registros de estados de pagos de meses antiguos.\n",
        "- X15 - X17 y X21 - X23 = Balance del monto de credito en meses antiguos.\n",
        "  \n",
        "Otra de las razones por las que decidimos eliminar y no reemplazar fue que el valor promedio resulta diferente cuando los valores NaN se reemplazan con 0."
      ]
    },
    {
      "cell_type": "markdown",
      "metadata": {
        "id": "SRbFwG2Lc4rp"
      },
      "source": [
        "#### **3. ¿Es necesario limpiar los datos para el análisis? Sí / No / ¿Por qué?**\n",
        "\n",
        "**Respuesta:**  \n",
        "Si, se realíza para corregir o eliminar los datos corruptos, irrelevantes, incorrectos o inexactos en una base de datos con el fin de: \n",
        "- Evitar que el modelo a entrenar aprenda del ruido de la información actual.\n",
        "- Evitar que los resultados y algoritmos no sean confiables.\n",
        "- Lograr que la relación entre los datos sea coherentes y libre de error."
      ]
    },
    {
      "cell_type": "markdown",
      "metadata": {
        "id": "hSBnmkkAc4rp"
      },
      "source": [
        "#### **4. ¿Existen problemas de formato que deban solucionar antes del proceso de modelado? Sí / No / Por qué.**\n",
        "\n",
        "**Respuesta:**  \n",
        "Sí, los problemas de formato existentes estan relacionados con tipos de dato Null y NaN, estos fueron eliminados con el fin de evitar realizar la modificacion a 0 ya que esto afectaba al valor de la medida estadistica promedio, ademas que los datos con problemas de formato representaban solo un 0.14 % que resulta de poco impacto, fue considerada irrelevante. \n",
        "\n",
        "También fue limpiada la primera columna que es el índice por defecto de los datos consultados."
      ]
    },
    {
      "cell_type": "markdown",
      "metadata": {
        "id": "gv7YYpIzc4rq"
      },
      "source": [
        "#### **5. ¿Qué ajustes se realizaron en el proceso de limpieza de datos (agregar, integrar, eliminar, modificar registros (filas), cambiar atributos (columnas)?**\n",
        "\n",
        "**Respuesta:**  \n",
        "El cambio de atributos no fue necesario, ya que todas las columnas cuenta con datos \"int\" o tipo entero. Las acciones realizadas eliminación de columnas y eliminación de algunos registro"
      ]
    }
  ],
  "metadata": {
    "kernelspec": {
      "display_name": "Python 3 (ipykernel)",
      "language": "python",
      "name": "python3"
    },
    "language_info": {
      "codemirror_mode": {
        "name": "ipython",
        "version": 3
      },
      "file_extension": ".py",
      "mimetype": "text/x-python",
      "name": "python",
      "nbconvert_exporter": "python",
      "pygments_lexer": "ipython3",
      "version": "3.10.5"
    },
    "vscode": {
      "interpreter": {
        "hash": "aee8b7b246df8f9039afb4144a1f6fd8d2ca17a180786b69acc140d282b71a49"
      }
    },
    "colab": {
      "provenance": [],
      "include_colab_link": true
    }
  },
  "nbformat": 4,
  "nbformat_minor": 0
}