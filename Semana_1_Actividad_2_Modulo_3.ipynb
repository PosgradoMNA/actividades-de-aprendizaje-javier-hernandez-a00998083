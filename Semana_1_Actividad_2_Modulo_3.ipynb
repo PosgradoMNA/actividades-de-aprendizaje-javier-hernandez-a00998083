{
  "nbformat": 4,
  "nbformat_minor": 0,
  "metadata": {
    "colab": {
      "provenance": [],
      "authorship_tag": "ABX9TyM6kHRPCppov0no+RKCRQli",
      "include_colab_link": true
    },
    "kernelspec": {
      "name": "python3",
      "display_name": "Python 3"
    },
    "language_info": {
      "name": "python"
    }
  },
  "cells": [
    {
      "cell_type": "markdown",
      "metadata": {
        "id": "view-in-github",
        "colab_type": "text"
      },
      "source": [
        "<a href=\"https://colab.research.google.com/github/PosgradoMNA/actividades-de-aprendizaje-javier-hernandez-a00998083/blob/main/Semana_1_Actividad_2_Modulo_3.ipynb\" target=\"_parent\"><img src=\"https://colab.research.google.com/assets/colab-badge.svg\" alt=\"Open In Colab\"/></a>"
      ]
    },
    {
      "cell_type": "markdown",
      "source": [
        "# Phyton programming fundamentals\n",
        "\n",
        "-Learning Objectives\n",
        "\n",
        "Conditions and Branching\n",
        "Loops\n",
        "Functions\n",
        "Objects and Classes"
      ],
      "metadata": {
        "id": "oaZXz8icIMa4"
      }
    },
    {
      "cell_type": "markdown",
      "source": [
        "# Conditions and Branching\n",
        "\n",
        "- comparison operations compare some values or operands\n",
        "- then based on the condition they produce some boolean value\n",
        "- fist opeation value \"==\" to compare if a is equal to b\n",
        "- in the expression i > 5, \"i and 5 \" are the operands and \">\" is the operator \n",
        "- the operands could be float as well\n",
        "- other operator != , that is oppositte to equal to , this is for different than.\n",
        "\n",
        "**Branching**\n",
        "\n",
        "- branching allows us to do diffent statements to different inputs . What is that?\n",
        "- if statment: if we use the \"if\" statement we will create a condition if it is meet then a code is executed , if not , it is not executed.\n",
        "- example sintax in the video: \n",
        "\n",
        "\n",
        "\n",
        "```\n",
        "if (age > 18) :\n",
        "  print (\"you can enter\")\n",
        "print (\"move on\")\n",
        "\n",
        "```\n",
        " - the interesting part here is that it uses parenthesis and also we always have in the code the las code line becuase we always going to pass thru print move on\n",
        "- then it was introduced the \"else\" statement that declares if the conditions isnt meet then will do what it is in \"else\" section\n",
        "-elif statement: it is addtional if stament that will compare what is in the additional condition , there are unlimitted elif conditions , and if one is met then the if statement is finished.\n",
        "\n",
        "** logic operators **\n",
        "\n",
        "- logic opeators take boolean values to create boolen values\n",
        "- fist operator is not() , if it is false  it will produce true\n",
        "- second is OR , takes A and B to produce C. FALSE and FALSE = false , FALSE and TRUE = true \n",
        "- AND operator is opposite to OR , both should be TRUE to have a \"true\" answer\n",
        "- could be to conditions for the same value like\n",
        "\n",
        "albumY = 1990\n",
        "if albumY < 2000 AND albumY > 1800 : \n",
        "this is the example that the same value could have different conditions to meet\n",
        "\n",
        "\n",
        "\n",
        "\n",
        "LAB: \n",
        "\n",
        "equal: ==\n",
        "not equal: !=\n",
        "greater than: >\n",
        "less than: <\n",
        "greater than or equal to: >=\n",
        "less than or equal to: <=\n",
        "\n",
        "- we can compare characters, characters has a value corresponding to ASCII code\n",
        "- so for example A is value 65 in ASCII code.\n",
        "\n",
        "- for the IF statement The tasks will end when the line of code does not contain the indent.\n",
        "\n",
        "- The not statement outputs the opposite truth value.\n",
        "\n",
        "- esto es para cuando tienes que hacer lo opuesto a un if es diferente pero no sabes como entonces usas el not\n",
        "\n",
        "The not statement checks if the statement is false:\n",
        "\n",
        "album_year = 1983\n",
        "\n",
        "if not (album_year == 1984):\n",
        "    print (\"Album year is not 1984\")"
      ],
      "metadata": {
        "id": "J37nlTYcKgjL"
      }
    },
    {
      "cell_type": "markdown",
      "source": [
        "# loops\n",
        "\n",
        "- the range function outputs an ordered sequence as a list \"i\"\n",
        "- range(N) N refers to a numer so it will create a list from cero to N-1\n",
        "- range could like range (10,15)\n",
        "- python 3 the range funcion will not generate a list explicity like in python 2\n",
        "- procedures can be used on tuples too\n",
        "- we have and indent for a funcion for\n",
        "- we are going to increment the indet by one each time we ends the indentation.\n",
        "- instead of range que can use the tuple directly\n",
        "- for i in squeres:\n",
        "  i\n",
        "-in this example if squares have string values , then i would be that string value , but the index would be incremented by one\n",
        "- it says that a very usefull funcion is enumerate :     \n",
        "\n",
        "\n",
        "\n",
        "```\n",
        "squares=['red', 'yellow', 'green', 'purple', 'blue']\n",
        "​\n",
        "for i, square in enumerate(squares):\n",
        "    i\n",
        "    square\n",
        "    print(i, square)\n",
        "```\n",
        "\n",
        "then I would get two different variables , i which is the index and square that is the real value of the variable\n",
        "\n",
        "*** while loops ***\n",
        "\n",
        "- while loops are similar to for loops but instead of excecuting a limited number of times it is executed until it gets a boolean value false or which is the same , when the condition is not met\n",
        "\n",
        "while doesnt have and indentation automated because it is infinite\n",
        "\n"
      ],
      "metadata": {
        "id": "dTDulAVUc95T"
      }
    }
  ]
}