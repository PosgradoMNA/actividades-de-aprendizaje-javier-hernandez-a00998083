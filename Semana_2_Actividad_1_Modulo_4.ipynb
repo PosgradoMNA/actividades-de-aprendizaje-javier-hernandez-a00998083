{
  "nbformat": 4,
  "nbformat_minor": 0,
  "metadata": {
    "colab": {
      "provenance": [],
      "authorship_tag": "ABX9TyOnUMjTUggUzpmA9+CpRhta",
      "include_colab_link": true
    },
    "kernelspec": {
      "name": "python3",
      "display_name": "Python 3"
    },
    "language_info": {
      "name": "python"
    }
  },
  "cells": [
    {
      "cell_type": "markdown",
      "metadata": {
        "id": "view-in-github",
        "colab_type": "text"
      },
      "source": [
        "<a href=\"https://colab.research.google.com/github/PosgradoMNA/actividades-de-aprendizaje-javier-hernandez-a00998083/blob/main/Semana_2_Actividad_1_Modulo_4.ipynb\" target=\"_parent\"><img src=\"https://colab.research.google.com/assets/colab-badge.svg\" alt=\"Open In Colab\"/></a>"
      ]
    },
    {
      "cell_type": "code",
      "execution_count": null,
      "metadata": {
        "id": "r0_gakPlisE1"
      },
      "outputs": [],
      "source": []
    },
    {
      "cell_type": "markdown",
      "source": [
        "Learning Objectives\n",
        "In this lesson you will learn about:\n",
        "Reading files with open\n",
        "Writing files with open\n",
        "Loading data with Pandas\n",
        "Working with and Saving data with Pandas\n",
        "\n"
      ],
      "metadata": {
        "id": "SrBFiuh2j9X7"
      }
    },
    {
      "cell_type": "code",
      "source": [],
      "metadata": {
        "id": "y7WjcjCemdGs"
      },
      "execution_count": null,
      "outputs": []
    },
    {
      "cell_type": "markdown",
      "source": [],
      "metadata": {
        "id": "uD_UC_-Smdto"
      }
    }
  ]
}