{
  "nbformat": 4,
  "nbformat_minor": 0,
  "metadata": {
    "colab": {
      "provenance": [],
      "authorship_tag": "ABX9TyOuR14VROtnSYakgiHFSoeN",
      "include_colab_link": true
    },
    "kernelspec": {
      "name": "python3",
      "display_name": "Python 3"
    },
    "language_info": {
      "name": "python"
    }
  },
  "cells": [
    {
      "cell_type": "markdown",
      "metadata": {
        "id": "view-in-github",
        "colab_type": "text"
      },
      "source": [
        "<a href=\"https://colab.research.google.com/github/PosgradoMNA/actividades-de-aprendizaje-javier-hernandez-a00998083/blob/main/Semana_1_Actividad_2_Modulo_2.ipynb\" target=\"_parent\"><img src=\"https://colab.research.google.com/assets/colab-badge.svg\" alt=\"Open In Colab\"/></a>"
      ]
    },
    {
      "cell_type": "markdown",
      "source": [
        "Learning objectives\n",
        "\n",
        "-list and tuples\n",
        "-sets\n",
        "-dictionaries"
      ],
      "metadata": {
        "id": "NWcySm8VJMt8"
      }
    },
    {
      "cell_type": "markdown",
      "source": [
        "# **list and tuples**\n",
        "\n",
        "**tuples**\n",
        "- these are called compound data types \n",
        "- tuples are an ordered sequence\n",
        "- tuples are writted with commas whithin paretheses\n",
        "- in python we have different types like str int float\n",
        "- tuples can contain any kind of types\n",
        "- the type of a variable of a tuple of different elements is a tuple\n",
        "- each element of the tuple can be accessed by the index\n",
        "- the tupple elements starts with the cero , ech comma-separated element it a place in the tuple and 1 index.\n",
        "- the way to access to one tuple element is with brackets\n",
        "- in python we also can use negative elements to access to the tuple\n",
        "- we can concatenate tuples with the + symbol\n",
        "- slicing is when we have a tupple and we use the brackets and double point to select just some elements in the tuple like stuff[0:9]\n",
        "- we can use the len command to obtain the lenght of the tuple\n",
        "- tuples are immutable so if we create something like x = (1,3,4) we cant do the following , x[0] = 1\n",
        "- but we can replace the tuple with other tuple\n",
        "- sorted function is for sorting the elements in the tuple\n",
        "- tuples can contain other tuples , it is named nesting\n",
        "- if we select an index and it has a tuple , we can access to it with other index\n",
        "\n",
        "**lists**\n",
        "- lists are also ordered sequences\n",
        "- lists are represented with squared braquets\n",
        "- list are ***mutables*** \n",
        "- list can contain any element , str int floar and tuples or lists\n",
        "- list can be accessed via an index\n",
        "- we can perform slicing in lists\n",
        "- the index conventios for list are the same to tuples\n",
        "- also we can concatenate lists\n",
        "- list are mutable so we can use the method extend\n",
        "- if we use append , with a list , it will include the whole list in the oringal list\n",
        "- we can select a element in the list and change it with a new declaration of a variuable selecting the index\n",
        "- we can delete the whole list or an index with del funcion, del(A[x])\n",
        "- we can convert a string into a list using the method split, so it will use the spaces to create the elements for the list\n",
        "- if we want to use a specific character , we can specicate it inside the method split like , x=raios.split(\"cuentame mas\"\n",
        "- aliasing when we create a varaible using other variable with list results\n",
        "- if we change somethins in one list of this list both will change\n",
        "- we can clone list using the folowing b = A[:]\n",
        "- so now if we change somthin in the original list the seconde one the one referenced wont change\n",
        "\n",
        "\n",
        "\n"
      ],
      "metadata": {
        "id": "jseiuAaLJWQz"
      }
    },
    {
      "cell_type": "markdown",
      "source": [],
      "metadata": {
        "id": "NRcYeEJlqTb1"
      }
    },
    {
      "cell_type": "code",
      "source": [
        "A = (\"A\",\"b\",\"C\")\n",
        "print (A)\n",
        "B = A\n",
        "print (B)\n",
        "A = 89\n",
        "print (A)\n",
        "B \n",
        "## It is important to remeber that tuples copied also refers to the same memory space."
      ],
      "metadata": {
        "colab": {
          "base_uri": "https://localhost:8080/"
        },
        "id": "98nP-3y6ZxKW",
        "outputId": "0179ff08-01f4-4c2e-b0b8-3e007c113f02"
      },
      "execution_count": 9,
      "outputs": [
        {
          "output_type": "stream",
          "name": "stdout",
          "text": [
            "89\n",
            "89\n"
          ]
        },
        {
          "output_type": "execute_result",
          "data": {
            "text/plain": [
              "89"
            ]
          },
          "metadata": {},
          "execution_count": 9
        }
      ]
    },
    {
      "cell_type": "markdown",
      "source": [
        "probably the most important points about the lists and tuples lab were the statement that tuples and list if they are copied like B = A , you will refer to the same memory space . other thing is we can mix C anb B just mixing with +"
      ],
      "metadata": {
        "id": "l74Q8TgwdLmR"
      }
    },
    {
      "cell_type": "code",
      "source": [
        "#other try with tuples\n",
        "A = (1,2,3,4)\n",
        "B = A\n",
        "A = A + (5)\n",
        "A"
      ],
      "metadata": {
        "colab": {
          "base_uri": "https://localhost:8080/",
          "height": 217
        },
        "id": "MYu5vQ3YdnCu",
        "outputId": "4a9afc57-a7ef-43cd-c2eb-230960e1d3fc"
      },
      "execution_count": 11,
      "outputs": [
        {
          "output_type": "error",
          "ename": "TypeError",
          "evalue": "ignored",
          "traceback": [
            "\u001b[0;31m---------------------------------------------------------------------------\u001b[0m",
            "\u001b[0;31mTypeError\u001b[0m                                 Traceback (most recent call last)",
            "\u001b[0;32m<ipython-input-11-39f896b15474>\u001b[0m in \u001b[0;36m<module>\u001b[0;34m\u001b[0m\n\u001b[1;32m      2\u001b[0m \u001b[0mA\u001b[0m \u001b[0;34m=\u001b[0m \u001b[0;34m(\u001b[0m\u001b[0;36m1\u001b[0m\u001b[0;34m,\u001b[0m\u001b[0;36m2\u001b[0m\u001b[0;34m,\u001b[0m\u001b[0;36m3\u001b[0m\u001b[0;34m,\u001b[0m\u001b[0;36m4\u001b[0m\u001b[0;34m)\u001b[0m\u001b[0;34m\u001b[0m\u001b[0;34m\u001b[0m\u001b[0m\n\u001b[1;32m      3\u001b[0m \u001b[0mB\u001b[0m \u001b[0;34m=\u001b[0m \u001b[0mA\u001b[0m\u001b[0;34m\u001b[0m\u001b[0;34m\u001b[0m\u001b[0m\n\u001b[0;32m----> 4\u001b[0;31m \u001b[0mA\u001b[0m \u001b[0;34m=\u001b[0m \u001b[0mA\u001b[0m \u001b[0;34m+\u001b[0m \u001b[0;34m(\u001b[0m\u001b[0;36m5\u001b[0m\u001b[0;34m)\u001b[0m\u001b[0;34m\u001b[0m\u001b[0;34m\u001b[0m\u001b[0m\n\u001b[0m\u001b[1;32m      5\u001b[0m \u001b[0mA\u001b[0m\u001b[0;34m\u001b[0m\u001b[0;34m\u001b[0m\u001b[0m\n",
            "\u001b[0;31mTypeError\u001b[0m: can only concatenate tuple (not \"int\") to tuple"
          ]
        }
      ]
    },
    {
      "cell_type": "code",
      "source": [
        "## al parecer solo se puede concatenate tuple\n",
        "print (A)\n",
        "B = ((6))\n",
        "print (type(B))\n",
        "A\n",
        "# al parecer esto es un error , no hay tuple de 1 porque lo identifica como int "
      ],
      "metadata": {
        "colab": {
          "base_uri": "https://localhost:8080/"
        },
        "id": "ER_R13RRdxcV",
        "outputId": "67db082f-512f-4cc9-c9b2-ef32c2d03332"
      },
      "execution_count": 23,
      "outputs": [
        {
          "output_type": "stream",
          "name": "stdout",
          "text": [
            "(1, 2, 3, 4, 6, 6)\n",
            "<class 'int'>\n"
          ]
        },
        {
          "output_type": "execute_result",
          "data": {
            "text/plain": [
              "(1, 2, 3, 4, 6, 6)"
            ]
          },
          "metadata": {},
          "execution_count": 23
        }
      ]
    },
    {
      "cell_type": "markdown",
      "source": [
        "# Sets\n",
        "- Sets are a kind of collection \n",
        "- Sets unlike list and tuples are unordered\n",
        "- sets only have one of a particular element , we can mixed the types of elements but if we have 6 elements of \"michael\" at the end we will store 1 \"michael\" element\n",
        "- to define a set, we use curly brackets {}\n",
        "- when we define a set and we have duplicate items, in the result the set will also store 1 one item\n",
        "- we can convert a list to a set with the folloing function set() - this is called type casting.\n",
        "\n",
        "**set operations**\n",
        "\n",
        "- can be used to change a set\n",
        "- a venn diagram is a tool that uses shapes usually to represents sets\n",
        "- method add() to add elements to the set\n",
        "\n",
        ">>> mientras que tuple no tiene forma de agregar elementos, en lists we can use the methods append o extend , dependiendo del caso y con \"sets\" we have the method add().\n",
        "\n",
        "- when we use the method add() it is add to the set but it doesnt follow a order it is added in the middle of the list or in any place in the set\n",
        "- tom remove a element weh use the remove() method\n",
        "- we can verify if an element is in the set with the command in , like \"georgejensen in setX\"\n",
        "- if the item is in the set , it will back the bool true, if not bool false\n",
        "- if we have to different sets , we can use the & value to get the union of both sets (the common elements for both)\n",
        "- other operation is to sum both elements , in this case we dont use + we use the following sintax , a.union(b) ... a and b should be sets\n",
        "-we can check if a set is part of other bigger set , with the method. a.issubset(b)\n",
        "- we would have in return a boolean value .\n",
        "\n",
        "lab\n",
        "\n",
        "- You can find all the elements that are only contained in album_set1 using the difference method:album_set1.difference(album_set2)  \n",
        "- so all the lements in album set 2 and all intersection are no included in the result.\n",
        "- addiontal to the subset there is other method to look for supersets, issuperset()\n",
        "-album_set3.issubset(album_set1) : this means you are making a question about album set 3 is subset of album 1.\n",
        "\n",
        "\n",
        "\n",
        "\n",
        "\n",
        "\n",
        "\n"
      ],
      "metadata": {
        "id": "kd92B-ZCfT72"
      }
    },
    {
      "cell_type": "markdown",
      "source": [
        "#Dictionaries\n",
        "- dictionaries are other type of collection in python\n",
        "- list has indexes and elements\n",
        "- dictionaries has keys nad values\n",
        "- key is analogous to index , but it doesnt need to be a integer, it could be a word\n",
        "- to create a dictionary we use curly brackets\n",
        "- the keys have to be inmutable and unique\n",
        "- the values can be inmmutable () , mutable [] and duplicates\n",
        "- each key/value is separated by a comma\n",
        "- each key has a value and is separated by a colon.\n",
        "- example of a key : {\"trriller\":1992, \"Black in black\":1980}\n",
        "- we can add elements to the dictionary like the following: DICT[\"anything\"] = \"anything\"\n",
        "- question can I refer to a some element in the dicionary like in the lists?\n",
        "\n",
        "\n",
        "```\n",
        "# Tiene formato de código\n",
        "a = {\"trriller\":1992, \"Black in black\":1980}\n",
        "a[1]\n",
        "```\n",
        "- as it was run in the below example we dont have acces if I refer to an element with an index\n",
        "- we can delete dictionary elements with del(DICTNAME[\"dictionayKey\"])\n",
        "- we can double check keys using comand \"in\"\n",
        "- we can use the method \"keys()\" to see all keys in the dictionary\n",
        "- we can use the methond \" values()\" to see all values in the dictionary\n",
        "\n",
        "*LAB*\n",
        "- dictionary example with different type of keys:\n",
        "Dict = {\"key1\": 1, \"key2\": \"2\", \"key3\": [3, 3, 3], \"key4\": (4, 4, 4), ('key5'): 5, (0, 1): 6}\n",
        "\n"
      ],
      "metadata": {
        "id": "iS2sYbRy_6bA"
      }
    },
    {
      "cell_type": "code",
      "source": [
        "a = {\"trriller\":1992, \"Black in black\":1980}\n",
        "a[1] # will send me an error\n",
        "a[\"trriller\"]\n"
      ],
      "metadata": {
        "colab": {
          "base_uri": "https://localhost:8080/"
        },
        "id": "NIWw3hKwCr2D",
        "outputId": "73245f21-323a-40ba-c627-93eb39784397"
      },
      "execution_count": 2,
      "outputs": [
        {
          "output_type": "execute_result",
          "data": {
            "text/plain": [
              "1992"
            ]
          },
          "metadata": {},
          "execution_count": 2
        }
      ]
    },
    {
      "cell_type": "markdown",
      "source": [],
      "metadata": {
        "id": "xi0LzdMxe77j"
      }
    },
    {
      "cell_type": "code",
      "source": [
        "release_year = {\"Thriller\": \"1982\", \"Back in Black\": \"1980\", \\\n",
        "                    \"The Dark Side of the Moon\": \"1973\", \"The Bodyguard\": \"1992\", \\\n",
        "                    \"Bat Out of Hell\": \"1977\", \"Their Greatest Hits (1971-1975)\": \"1976\", \\\n",
        "                    \"Saturday Night Fever\": \"1977\", \"Rumours\": \"1977\"}\n",
        "\n",
        "print (release_year.keys())"
      ],
      "metadata": {
        "colab": {
          "base_uri": "https://localhost:8080/"
        },
        "id": "fmpGM9N0FwUE",
        "outputId": "6d732904-67f3-4952-fd89-7a640faf7fc0"
      },
      "execution_count": 5,
      "outputs": [
        {
          "output_type": "stream",
          "name": "stdout",
          "text": [
            "dict_keys(['Thriller', 'Back in Black', 'The Dark Side of the Moon', 'The Bodyguard', 'Bat Out of Hell', 'Their Greatest Hits (1971-1975)', 'Saturday Night Fever', 'Rumours'])\n"
          ]
        }
      ]
    },
    {
      "cell_type": "markdown",
      "source": [
        "it is important to point out that the output for a dictionaryexmaple.Keys() would have a label that says \"dict_keys\"\n",
        "\n"
      ],
      "metadata": {
        "id": "usELOo9KGAsb"
      }
    }
  ]
}