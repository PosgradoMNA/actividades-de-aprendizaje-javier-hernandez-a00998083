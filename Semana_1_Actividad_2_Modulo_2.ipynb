{
  "nbformat": 4,
  "nbformat_minor": 0,
  "metadata": {
    "colab": {
      "provenance": [],
      "authorship_tag": "ABX9TyOrWCUGFOWCsZMlqaA3XlIS",
      "include_colab_link": true
    },
    "kernelspec": {
      "name": "python3",
      "display_name": "Python 3"
    },
    "language_info": {
      "name": "python"
    }
  },
  "cells": [
    {
      "cell_type": "markdown",
      "metadata": {
        "id": "view-in-github",
        "colab_type": "text"
      },
      "source": [
        "<a href=\"https://colab.research.google.com/github/PosgradoMNA/actividades-de-aprendizaje-javier-hernandez-a00998083/blob/main/Semana_1_Actividad_2_Modulo_2.ipynb\" target=\"_parent\"><img src=\"https://colab.research.google.com/assets/colab-badge.svg\" alt=\"Open In Colab\"/></a>"
      ]
    },
    {
      "cell_type": "markdown",
      "source": [
        "Learning objectives\n",
        "\n",
        "-list and tuples\n",
        "-sets\n",
        "-dictionaries"
      ],
      "metadata": {
        "id": "NWcySm8VJMt8"
      }
    },
    {
      "cell_type": "markdown",
      "source": [
        "# **list and tuples**\n",
        "\n",
        "**tuples**\n",
        "- these are called compound data types \n",
        "- tuples are an ordered sequence\n",
        "- tuples are writted with commas whithin paretheses\n",
        "- in python we have different types like str int float\n",
        "- tuples can contain any kind of types\n",
        "- the type of a variable of a tuple of different elements is a tuple\n",
        "- each element of the tuple can be accessed by the index\n",
        "- the tupple elements starts with the cero , ech comma-separated element it a place in the tuple and 1 index.\n",
        "- the way to access to one tuple element is with brackets\n",
        "- in python we also can use negative elements to access to the tuple\n",
        "- we can concatenate tuples with the + symbol\n",
        "- slicing is when we have a tupple and we use the brackets and double point to select just some elements in the tuple like stuff[0:9]\n",
        "- we can use the len command to obtain the lenght of the tuple\n",
        "- tuples are immutable so if we create something like x = (1,3,4) we cant do the following , x[0] = 1\n",
        "- but we can replace the tuple with other tuple\n",
        "- sorted function is for sorting the elements in the tuple\n",
        "- tuples can contain other tuples , it is named nesting\n",
        "- if we select an index and it has a tuple , we can access to it with other index\n",
        "\n",
        "**lists**\n",
        "- lists are also ordered sequences\n",
        "- lists are represented with squared braquets\n",
        "- list are ***mutables*** \n",
        "- list can contain any element , str int floar and tuples or lists\n",
        "- list can be accessed via an index\n",
        "- we can perform slicing in lists\n",
        "- the index conventios for list are the same to tuples\n",
        "- also we can concatenate lists\n",
        "- list are mutable so we can use the method extend\n",
        "- if we use append , with a list , it will include the whole list in the oringal list\n",
        "- we can select a element in the list and change it with a new declaration of a variuable selecting the index\n",
        "- we can delete the whole list or an index with del funcion, del(A[x])\n",
        "- we can convert a string into a list using the method split, so it will use the spaces to create the elements for the list\n",
        "- if we want to use a specific character , we can specicate it inside the method split like , x=raios.split(\"cuentame mas\"\n",
        "- aliasing when we create a varaible using other variable with list results\n",
        "- if we change somethins in one list of this list both will change\n",
        "- we can clone list using the folowing b = A[:]\n",
        "- so now if we change somthin in the original list the seconde one the one referenced wont change\n",
        "\n",
        "\n",
        "\n"
      ],
      "metadata": {
        "id": "jseiuAaLJWQz"
      }
    }
  ]
}