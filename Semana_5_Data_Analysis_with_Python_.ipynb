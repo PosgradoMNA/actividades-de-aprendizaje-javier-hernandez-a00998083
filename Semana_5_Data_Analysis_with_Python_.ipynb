{
  "nbformat": 4,
  "nbformat_minor": 0,
  "metadata": {
    "colab": {
      "provenance": [],
      "collapsed_sections": [],
      "authorship_tag": "ABX9TyPKTNXbGTIeFSVO5qpRfrrS"
    },
    "kernelspec": {
      "name": "python3",
      "display_name": "Python 3"
    },
    "language_info": {
      "name": "python"
    }
  },
  "cells": [
    {
      "cell_type": "markdown",
      "source": [
        "Actividades del Modulo 2 | Data Analysis with Python \n",
        "Nombre: Francisco Javier Hernandez Camarillo Matricula: A00998083\n"
      ],
      "metadata": {
        "id": "7Xhp7ar5hY7k"
      }
    },
    {
      "cell_type": "markdown",
      "source": [
        "# Pre-Processing Data in Python \n",
        "\n",
        "data pre-processing is a necessary step in data analysis.\n",
        "it is the process of convertin or mapping datta form one raw form into another format\n",
        "also known as data cleaning or data wrangling\n",
        "\n",
        "objectives:\n",
        "identify and handle missing values\n",
        "data formats\n",
        "data normalization (different ranges , direct comparison could be not meaningful.\n",
        "dataq binning\n",
        "turning categorical values to numeric variables\n",
        "\n",
        "we usually perform operations along columns\n",
        "each row of the column represents a sample"
      ],
      "metadata": {
        "id": "0H_qK5dEVzS-"
      }
    },
    {
      "cell_type": "markdown",
      "source": [
        "# Dealing with missing values in Python\n",
        "\n",
        "when no data value is stored for a feature for a particular observation , we say this features has a 'missing value'.\n",
        "common missing values: ? , N/A , 0 or just a blank cell\n",
        "\n",
        "options for missing values treatment.\n",
        "check if the person or the group that collected the data con go back and find what the actual value should be.\n",
        "\n",
        "remove the data where the missing value is found\n",
        "\n",
        "we we remove data , we can remove the whole variable or just the data entry\n",
        "if we dont have enough data , removing just the entry of the missing value es the best\n",
        "\n",
        "replacing data is better since no data is wasted\n",
        "it is less aquerate since we need to replace missing data with a guess of what data should be.\n",
        "a technique could be replace the missing values with an average value of the entire variables, but what if a variable cannot ve avareged as with categorical variables, one possibility is to try using the most common . the mode\n",
        "This is usually because the data gatherer knows something additional about the missing\n",
        "in some cases you may simply want to leave the missing data as missing data.\n",
        "\n",
        "how to drop missing values or replace\n",
        "\n",
        "method : dropna\n",
        "\n",
        "with this method we can choose the column or the row \n",
        "\n",
        "we need to specify axis = 0 or axis = 1 to refer to rows or columns.\n",
        "\n",
        "df.dropna(subset=['price'], axis = 0, inplace: True)\n",
        "\n",
        "axis = 0 , dorps the entire row \n",
        "\n",
        "axis = 1 , drops the intire column \n",
        "\n",
        "Setting the argument “inplace” to “true” allows the modification to be done on the dataset directly.\n",
        "\n",
        "\n",
        "df.dropna(subset=['price'], axis = 0) : this will not modify the df\n",
        "\n",
        "____________________\n",
        "\n",
        "replace missing values\n",
        "\n",
        "first we calulate mean of the column.\n",
        "\n",
        " mean= df[column name].mean()\n",
        "\n",
        "df[column name].replace(np.nan, mean)\n",
        "\n",
        "\n"
      ],
      "metadata": {
        "id": "m5IZTyBpXxx-"
      }
    },
    {
      "cell_type": "markdown",
      "source": [
        "# Data Formatting in Python\n",
        "\n",
        "data is usually collected from different places, by different people which may be stored in different formats\n",
        "Data formatting means bringing data into a common standard of expression that allows users to make meaningful comparisons.\n",
        "data formatting ensures taht data is consistent and easily understandable\n"
      ],
      "metadata": {
        "id": "_a_RCtFTgY7b"
      }
    }
  ]
}