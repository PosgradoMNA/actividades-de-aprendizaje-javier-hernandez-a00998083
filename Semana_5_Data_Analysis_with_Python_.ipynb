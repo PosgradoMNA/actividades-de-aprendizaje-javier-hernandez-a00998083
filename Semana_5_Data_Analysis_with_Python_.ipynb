{
  "nbformat": 4,
  "nbformat_minor": 0,
  "metadata": {
    "colab": {
      "provenance": [],
      "collapsed_sections": [],
      "authorship_tag": "ABX9TyMlJPB1p0uGAChaUQ1W7F51"
    },
    "kernelspec": {
      "name": "python3",
      "display_name": "Python 3"
    },
    "language_info": {
      "name": "python"
    }
  },
  "cells": [
    {
      "cell_type": "markdown",
      "source": [
        "Actividades del Modulo 2 | Data Analysis with Python \n",
        "Nombre: Francisco Javier Hernandez Camarillo Matricula: A00998083\n"
      ],
      "metadata": {
        "id": "7Xhp7ar5hY7k"
      }
    },
    {
      "cell_type": "markdown",
      "source": [
        "# Pre-Processing Data in Python \n",
        "\n",
        "data pre-processing is a necessary step in data analysis.\n",
        "it is the process of convertin or mapping datta form one raw form into another format\n",
        "also known as data cleaning or data wrangling\n",
        "\n",
        "objectives:\n",
        "identify and handle missing values\n",
        "data formats\n",
        "data normalization (different ranges , direct comparison could be not meaningful.\n",
        "dataq binning\n",
        "turning categorical values to numeric variables\n",
        "\n",
        "we usually perform operations along columns\n",
        "each row of the column represents a sample"
      ],
      "metadata": {
        "id": "0H_qK5dEVzS-"
      }
    },
    {
      "cell_type": "markdown",
      "source": [
        "# Dealing with missing values in Python\n",
        "\n",
        "when no data value is stored for a feature for a particular observation , we say this features has a 'missing value'.\n",
        "common missing values: ? , N/A , 0 or just a blank cell\n",
        "\n",
        "options for missing values treatment.\n",
        "check if the person or the group that collected the data con go back and find what the actual value should be.\n",
        "\n",
        "remove the data where the missing value is found\n",
        "\n",
        "we we remove data , we can remove the whole variable or just the data entry\n",
        "if we dont have enough data , removing just the entry of the missing value es the best\n",
        "\n",
        "replacing data is better since no data is wasted\n",
        "it is less aquerate since we need to replace missing data with a guess of what data should be.\n",
        "a technique could be replace the missing values with an average value of the entire variables, but what if a variable cannot ve avareged as with categorical variables, one possibility is to try using the most common . the mode\n",
        "This is usually because the data gatherer knows something additional about the missing\n",
        "in some cases you may simply want to leave the missing data as missing data.\n",
        "\n",
        "how to drop missing values or replace\n",
        "\n",
        "method : dropna\n",
        "\n",
        "with this method we can choose the column or the row \n",
        "\n",
        "we need to specify axis = 0 or axis = 1 to refer to rows or columns.\n",
        "\n",
        "df.dropna(subset=['price'], axis = 0, inplace: True)\n",
        "\n",
        "axis = 0 , dorps the entire row \n",
        "\n",
        "axis = 1 , drops the intire column \n",
        "\n",
        "Setting the argument “inplace” to “true” allows the modification to be done on the dataset directly.\n",
        "\n",
        "\n",
        "df.dropna(subset=['price'], axis = 0) : this will not modify the df\n",
        "\n",
        "____________________\n",
        "\n",
        "replace missing values\n",
        "\n",
        "first we calulate mean of the column.\n",
        "\n",
        " mean= df[column name].mean()\n",
        "\n",
        "df[column name].replace(np.nan, mean)\n",
        "\n",
        "\n"
      ],
      "metadata": {
        "id": "m5IZTyBpXxx-"
      }
    },
    {
      "cell_type": "markdown",
      "source": [
        "# Data Formatting in Python\n",
        "\n",
        "data is usually collected from different places, by different people which may be stored in different formats\n",
        "Data formatting means bringing data into a common standard of expression that allows users to make meaningful comparisons.\n",
        "data formatting ensures taht data is consistent and easily understandable\n",
        "for example if you have a column with different entries for a city name like NY , New york , new york city, we need to have a data format \n",
        " we just simply want to treat them all as the same entity,\n",
        "\n",
        " for example if we want to forma a column with mpg to km per liter\n",
        " we cad do that with \n",
        "\n",
        " df[column name]= 234/df[column name]\n",
        "\n",
        " laso we can remane the column with df.rename\n",
        "\n",
        " sometimes when we entry data it could be incorrectly established\n",
        "\n",
        " objects can be letters or wordsz\n",
        "dataframe.dtypes()\n",
        "\n",
        "to convert data type df.astype()"
      ],
      "metadata": {
        "id": "_a_RCtFTgY7b"
      }
    },
    {
      "cell_type": "markdown",
      "source": [
        "# Data Normalization in Python\n",
        "\n",
        "ranges in the different columns could be different\n",
        "This normalization can make some statistical analyses easier down the road.\n",
        "By making the ranges consistent between variables, normalization enables a fairer comparison\n",
        "\n",
        "for example , lets say you have 2 columns , if you have a coulmn called age with values less than 100 and you have other with a values up to 100000 , the second one would be like 1000 larger than the first one\n",
        "\n",
        "When we do further analysis, like linear regression, for example, the attribute “income” will intrinsically influence the result more, due to its larger value, but this doesn’t necessarily mean it is more ‘important’ as a predictor.\n",
        "\n",
        "so the nature of the data biases the linear regression model to weigh income mora heavily than age.\n",
        "\n",
        "we can normalizate values to ranges form 0 to 1\n",
        "\n",
        "afte a normalization both variables would have a similar influenec to the model\n",
        "\n",
        "normalization techniques:\n",
        "simple feature scaling\n",
        "min, max : takes each value, X_old, subtracted from the minimum\n",
        "value of that feature, then divides by the range of that feature.\n",
        "z-score"
      ],
      "metadata": {
        "id": "q5xCyCFulElY"
      }
    },
    {
      "cell_type": "markdown",
      "source": [
        "**Binning**\n",
        "\n",
        "Binning is when you group values together into bins. For example, you can bin “age” into [0 to 5], [6 to 10], [11 to 15] and so on.\n",
        "\n",
        "fo a example to a column with name price , we can categorize the price into low price , medium price and high prices\n",
        "\n",
        "bins = np.linspace(min(df[prize]),max(df[prize]),4)\n",
        "\n",
        "with binning we can a better histogram to locate the best contributor to eh usse"
      ],
      "metadata": {
        "id": "84aRXADwn9cY"
      }
    },
    {
      "cell_type": "markdown",
      "source": [
        "# Turning categorical variables into quantitative variables\n",
        "\n",
        "Most statistical models cannot take in objects or strings as input and, for model training,\n",
        "\n",
        "for example having a fuel column with 2 values , gas or diesel \n",
        "it says we can have a numerical value, creating other 2 columns with values of 1 and 2\n",
        "This technique is often called “one-hot encoding”.\n",
        "In pandas, we can use get_dummies() method to convert categorical variables to dummyIn pandas, we can use get_dummies() method to convert categorical variables to dummy\n",
        "\n",
        "\n"
      ],
      "metadata": {
        "id": "J95nKXZUqkaX"
      }
    },
    {
      "cell_type": "markdown",
      "source": [
        "![Annotation 2022-10-18 .png](data:image/png;base64,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)"
      ],
      "metadata": {
        "id": "T0MxXAKdtByo"
      }
    }
  ]
}