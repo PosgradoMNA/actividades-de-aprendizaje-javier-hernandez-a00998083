{
  "nbformat": 4,
  "nbformat_minor": 0,
  "metadata": {
    "colab": {
      "provenance": [],
      "include_colab_link": true
    },
    "kernelspec": {
      "name": "python3",
      "display_name": "Python 3"
    },
    "language_info": {
      "name": "python"
    }
  },
  "cells": [
    {
      "cell_type": "markdown",
      "metadata": {
        "id": "view-in-github",
        "colab_type": "text"
      },
      "source": [
        "<a href=\"https://colab.research.google.com/github/PosgradoMNA/actividades-de-aprendizaje-javier-hernandez-a00998083/blob/main/A00998083_semana2_actividad_01.ipynb\" target=\"_parent\"><img src=\"https://colab.research.google.com/assets/colab-badge.svg\" alt=\"Open In Colab\"/></a>"
      ]
    },
    {
      "cell_type": "markdown",
      "source": [
        "Alumno : Francisco Javier Hernandez Camarillo\n",
        "Matricula: A00998083"
      ],
      "metadata": {
        "id": "VMH6nUK4S1vN"
      }
    },
    {
      "cell_type": "markdown",
      "source": [
        "#**Maestría en Inteligencia Artificial Aplicada**\n",
        "##**Curso: Procesamiento de Lenguaje Natural (NLP)**\n",
        "###Tecnológico de Monterrey\n",
        "###Prof Luis Eduardo Falcón Morales\n",
        "\n",
        "## **Adtividad de la Semana 02**\n",
        "###**Introducción al procesamiento de texto.**"
      ],
      "metadata": {
        "id": "759SG4TyfbUn"
      }
    },
    {
      "cell_type": "markdown",
      "source": [
        "En esta actividad deberás utilizar los datos del siguiente archivo que se encuentra en Canvas:\n",
        "\n",
        "MNA_NLP_semana_02_Actividad_datos.txt\n",
        "\n",
        "El archivo contiene comentarios en inglés sobre servicios de comida de la página de Yelp: https://www.yelp.com/ . \n",
        "\n",
        "Son mil comentarios y forman parte del conjunto de datos que se encuentra en el Machine Learning Repository de la UCI, llamado \"Sentiment Labelled Sentences\": https://archive.ics.uci.edu/ml/datasets/Sentiment+Labelled+Sentences#\n"
      ],
      "metadata": {
        "id": "6ue1YAKx3XDo"
      }
    },
    {
      "cell_type": "markdown",
      "source": [
        "#**Parte 1. Cargamos los datos.**   "
      ],
      "metadata": {
        "id": "Zj-h4drXD-X9"
      }
    },
    {
      "cell_type": "markdown",
      "source": [
        "Cargar los datos del archivo indicado y obtener una lista de longitud de 1000 strings/comentarios. \n",
        "\n",
        "Por el momento solamente requerimos las bibliotecas de Numpy y re, para el manejo de los arreglos y de las expresiones regulares en Python.\n",
        "\n",
        "En particular, no necesitarás en esta actividad la biblioteca de Pandas.\n",
        "\n",
        "###**NOTA: En esta actividad no debes importar nada más, con estas dos bibliotecas será *suficiente*.**"
      ],
      "metadata": {
        "id": "BY6yifxscfrx"
      }
    },
    {
      "cell_type": "code",
      "source": [
        "import numpy as np    # importamos Numpy para el manejo de los arreglos.\n",
        "import re             # importamos re para el manejo de las expresiones regulares."
      ],
      "metadata": {
        "id": "OJ26dAfhdFnf"
      },
      "execution_count": null,
      "outputs": []
    },
    {
      "cell_type": "code",
      "source": [
        "# Ejecuta las siguientes instrucciones para cargar la información del achivo dado:\n",
        "\n",
        "with open('MNA_NLP_semana_02_Actividad_datos.txt',        # puedes actualizar la ruta a tu archivo, en dado caso.\n",
        "          mode='r',     # abrimos el archivo en modo lectura.\n",
        "          ) as f:\n",
        "    docs = f.readlines()    # separamos cada comentario por líneas\n",
        "\n",
        "f.close()  # ya que tenemos la información en la variable docs, cerramos el archivo"
      ],
      "metadata": {
        "id": "QHUmJyjDdGNP"
      },
      "execution_count": null,
      "outputs": []
    },
    {
      "cell_type": "code",
      "source": [
        "type(docs) == list   # Verifica que tu variable \"docs\" es una lista"
      ],
      "metadata": {
        "id": "L6WzrSrodG-Y",
        "colab": {
          "base_uri": "https://localhost:8080/"
        },
        "outputId": "0fd1b8d2-799b-45be-caad-bffe70d16699"
      },
      "execution_count": null,
      "outputs": [
        {
          "output_type": "execute_result",
          "data": {
            "text/plain": [
              "True"
            ]
          },
          "metadata": {},
          "execution_count": 3
        }
      ]
    },
    {
      "cell_type": "code",
      "source": [
        "len(docs)==1000  # verifica que la longitud de \"docs\" es de mil comentarios."
      ],
      "metadata": {
        "id": "QIK1u9WS2FtS",
        "colab": {
          "base_uri": "https://localhost:8080/"
        },
        "outputId": "0eed3efa-0d64-4a93-ef15-446514dc268b"
      },
      "execution_count": null,
      "outputs": [
        {
          "output_type": "execute_result",
          "data": {
            "text/plain": [
              "True"
            ]
          },
          "metadata": {},
          "execution_count": 4
        }
      ]
    },
    {
      "cell_type": "code",
      "source": [
        "docs[0:10]     # observa algunos de los primeros comentarios"
      ],
      "metadata": {
        "id": "9AMLIfQvJqNZ",
        "colab": {
          "base_uri": "https://localhost:8080/"
        },
        "outputId": "0eafc98a-d46d-4926-b80a-a5cd4b581f70"
      },
      "execution_count": null,
      "outputs": [
        {
          "output_type": "execute_result",
          "data": {
            "text/plain": [
              "['Wow... Loved this place.\\n',\n",
              " 'Crust is not good.\\n',\n",
              " 'Not tasty and the texture was just nasty.\\n',\n",
              " 'Stopped by during the late May bank holiday off Rick Steve recommendation and loved it.\\n',\n",
              " 'The selection on the menu was great and so were the prices.\\n',\n",
              " 'Now I am getting angry and I want my damn pho.\\n',\n",
              " \"Honeslty it didn't taste THAT fresh.)\\n\",\n",
              " 'The potatoes were like rubber and you could tell they had been made up ahead of time being kept under a warmer.\\n',\n",
              " 'The fries were great too.\\n',\n",
              " 'A great touch.\\n']"
            ]
          },
          "metadata": {},
          "execution_count": 5
        }
      ]
    },
    {
      "cell_type": "markdown",
      "source": [
        "#**Parte 2: sección de preguntas (regex).**   \n"
      ],
      "metadata": {
        "id": "k_ewoagic5jc"
      }
    },
    {
      "cell_type": "markdown",
      "source": [
        "##**Instrucciones:**\n",
        "\n",
        "###**A continuación deberás contestar cada una de las preguntas que te piden usando expresiones regulares (regex).**\n",
        "\n",
        "###**Por el momento no hay restricción en cuanto al número de líneas de código que agregues, pero trata de incluir las mínimas posibles.**"
      ],
      "metadata": {
        "id": "X-eMJa3DFCIV"
      }
    },
    {
      "cell_type": "markdown",
      "source": [
        "*   **Pregunta 1.** \n",
        "\n",
        "Busca y elimina todos los saltos de línea '\\n' que se encuentran al final de cada comentario. \n",
        "\n",
        "Una vez finalizado, imprime los primeros 10 comentarios del resultado obtenido.\n"
      ],
      "metadata": {
        "id": "78nJMemzn5a5"
      }
    },
    {
      "cell_type": "code",
      "source": [
        "docs_2 = [line.strip('\\n') for line in docs]"
      ],
      "metadata": {
        "id": "PwbYYIuZn8pE"
      },
      "execution_count": null,
      "outputs": []
    },
    {
      "cell_type": "code",
      "source": [
        "docs_2[0:10]"
      ],
      "metadata": {
        "id": "j-0qeh2Jn8l1",
        "colab": {
          "base_uri": "https://localhost:8080/"
        },
        "outputId": "c902aa6a-67d8-4121-9857-cc75f8729029"
      },
      "execution_count": null,
      "outputs": [
        {
          "output_type": "execute_result",
          "data": {
            "text/plain": [
              "['Wow... Loved this place.',\n",
              " 'Crust is not good.',\n",
              " 'Not tasty and the texture was just nasty.',\n",
              " 'Stopped by during the late May bank holiday off Rick Steve recommendation and loved it.',\n",
              " 'The selection on the menu was great and so were the prices.',\n",
              " 'Now I am getting angry and I want my damn pho.',\n",
              " \"Honeslty it didn't taste THAT fresh.)\",\n",
              " 'The potatoes were like rubber and you could tell they had been made up ahead of time being kept under a warmer.',\n",
              " 'The fries were great too.',\n",
              " 'A great touch.']"
            ]
          },
          "metadata": {},
          "execution_count": 7
        }
      ]
    },
    {
      "cell_type": "markdown",
      "source": [
        "-*   **Pregunta 2.**  \n",
        "\n",
        "Busca e imprime todas las palabras que terminan con dos o más signos de admiración seguidos, por ejemplo \"!!!\". \n",
        "\n",
        "Debes imprimir tanto la palabra como la totalidad de signos de admiración que le siguen. \n",
        "\n",
        "Indica cuántos resultados obtuviste.\n",
        "\n"
      ],
      "metadata": {
        "id": "VWeKQC93ctEo"
      }
    },
    {
      "cell_type": "code",
      "source": [
        "docs_3 = [re.findall(r'\\w+!!!*',line) for line in docs_2 ] # todos los caracteres que tengan al menos 3 signos que empiecen con un numero indefinido de caracteres\n",
        "words_ = [ x for x in docs_3 if x != []]\n",
        "print (words_ )"
      ],
      "metadata": {
        "colab": {
          "base_uri": "https://localhost:8080/"
        },
        "id": "HAvfa2t4CRv1",
        "outputId": "599cc583-250a-466b-f4e1-d389ff9a2595"
      },
      "execution_count": null,
      "outputs": [
        {
          "output_type": "stream",
          "name": "stdout",
          "text": [
            "[['Firehouse!!!!!'], ['APPETIZERS!!!'], ['amazing!!!'], ['buffet!!!'], ['good!!'], ['it!!!!'], ['DELICIOUS!!'], ['amazing!!'], ['shawarrrrrrma!!!!!!'], ['yucky!!!'], ['steak!!!!!'], ['delicious!!!'], ['far!!'], ['biscuits!!!'], ['dry!!'], ['disappointing!!!'], ['awesome!!'], ['Up!!'], ['FLY!!!!!!!!'], ['here!!!'], ['great!!!!!!!!!!!!!!'], ['packed!!'], ['otherwise!!'], ['amazing!!!!!!!!!!!!!!!!!!!'], ['style!!'], ['disappointed!!']]\n"
          ]
        }
      ]
    },
    {
      "cell_type": "code",
      "source": [
        "print (\"las palabras con 2 o mas signos de admiracion son : %s\" %len(words_))\n",
        "\n",
        "##docs_3 = [re.findall('\\w+(?:d)\\b',x) for line in docs_2 for x in line] # esto funciono pero para una letra"
      ],
      "metadata": {
        "colab": {
          "base_uri": "https://localhost:8080/"
        },
        "id": "mTj_Lmv-NQ8R",
        "outputId": "653197cc-b510-46a5-c57a-629648dc0c92"
      },
      "execution_count": null,
      "outputs": [
        {
          "output_type": "stream",
          "name": "stdout",
          "text": [
            "las palabras con 2 o mas signos de admiracion son : 26\n"
          ]
        }
      ]
    },
    {
      "cell_type": "markdown",
      "source": [
        "*   **Pregunta 3.**  \n",
        "\n",
        "Busca e imprime todas las palabras que están escritas totalmente en mayúsculas. Cada coincidencia debe ser una sola palabra.\n",
        "\n",
        "Indica cuántas palabras encontraste.\n",
        "\n"
      ],
      "metadata": {
        "id": "-s3okBqL96TT"
      }
    },
    {
      "cell_type": "code",
      "source": [
        "docs_3 =[re.findall('\\w+(?:[A-Z])',line) for line in docs_2 ]\n",
        "words_ = [ x for x in docs_3 if x != []]\n",
        "print (words_ )          "
      ],
      "metadata": {
        "id": "yKHJkZKo_nW5",
        "colab": {
          "base_uri": "https://localhost:8080/"
        },
        "outputId": "3bce025e-4b0f-4e43-b59e-7b9d429b70ac"
      },
      "execution_count": null,
      "outputs": [
        {
          "output_type": "stream",
          "name": "stdout",
          "text": [
            "[['THAT'], ['APPETIZERS'], ['WILL', 'NEVER', 'EVER', 'STEP', 'FORWARD', 'IN', 'IT', 'AGAIN'], ['LOVED'], ['AND'], ['REAL'], ['BITCHES'], ['NYC'], ['STALE'], ['DELICIOUS'], ['WORST', 'EXPERIENCE', 'EVER'], ['ALL'], ['BARGAIN'], ['TV'], ['NONE'], ['FREEZING'], ['AYCE'], ['FLAVOR'], ['NEVER'], ['BBQ'], ['UNREAL'], ['OMG'], ['BETTER'], ['BLAND'], ['RUDE', 'INCONSIDERATE', 'MANAGEMENT'], ['WILL', 'NEVER', 'EVER', 'GO', 'BACK', 'AND', 'HAVE', 'TOLD', 'MANY', 'PEOPLE', 'WHAT', 'HAD', 'HAPPENED'], ['TOTAL', 'WASTE', 'OF', 'TIME'], ['FS'], ['AZ'], ['LOVED'], ['CONCLUSION'], ['BEST'], ['GO', 'NOW'], ['GC'], ['AVOID', 'THIS', 'ESTABLISHMENT'], ['AN', 'HOUR'], ['NASTY'], ['OMG'], ['NO'], ['BEST'], ['THE', 'OWNERS', 'REALLY', 'REALLY'], ['PERFECT'], ['SCREAMS', 'LEGIT'], ['MGM'], ['BEST'], ['FLY', 'FLY'], ['FANTASTIC'], ['GREAT'], ['OK'], ['WAY'], ['MUST', 'HAVE'], ['OK'], ['OVERPRICED'], ['BARE', 'HANDS'], ['WEAK'], ['SHOULD'], ['RI'], ['WAAAAAA'], ['VERY'], ['NOT']]\n"
          ]
        }
      ]
    },
    {
      "cell_type": "code",
      "source": [
        "a = [i for x in words_ for i in x] \n",
        "print (\"las palabras mayusculas en todo el texto son : %s\" %len(a))"
      ],
      "metadata": {
        "id": "L3q08aq69sNn",
        "colab": {
          "base_uri": "https://localhost:8080/"
        },
        "outputId": "7093f39b-975f-4d67-fd85-56892143fb69"
      },
      "execution_count": null,
      "outputs": [
        {
          "output_type": "stream",
          "name": "stdout",
          "text": [
            "las palabras mayusculas en todo el texto son : 97\n"
          ]
        }
      ]
    },
    {
      "cell_type": "markdown",
      "source": [
        "*   **Pregunta 4.**  \n",
        "\n",
        "Busca e imprime los comentarios en donde todos los caracteres alfabéticos (letras) están en mayúsculas. \n",
        "\n",
        "Cada coincidencia encontrada debe ser todo el comentario/enunciado.\n",
        "\n",
        "Indica cuántos resultados obtuviste.\n"
      ],
      "metadata": {
        "id": "GX8eYyDoMZma"
      }
    },
    {
      "cell_type": "code",
      "source": [
        "# docs_4 =[line for line in docs_2 if re.findall('\\w+(?:[A-Z])',line) != [] ] #no se porque el resultado sigue siendo line pero si esta bien, creo que porque se conserva el line del primer for\n",
        "docs_4 =[line for line in docs_2 if re.findall(r'[A-Za-z]\\w*',line) == re.findall(r'[A-Z]\\w*[A-Z]',line) ]\n",
        "words_ = [ x for x in docs_4 if x != []]\n",
        "print (words_ )\n",
        "\n"
      ],
      "metadata": {
        "id": "K8VuZxvTMYj6",
        "colab": {
          "base_uri": "https://localhost:8080/"
        },
        "outputId": "5518cb29-fd41-4de8-dff3-cb68131b6783"
      },
      "execution_count": null,
      "outputs": [
        {
          "output_type": "stream",
          "name": "stdout",
          "text": [
            "['DELICIOUS!!', 'RUDE & INCONSIDERATE MANAGEMENT.', 'WILL NEVER EVER GO BACK AND HAVE TOLD MANY PEOPLE WHAT HAD HAPPENED.', 'TOTAL WASTE OF TIME.', 'AVOID THIS ESTABLISHMENT!']\n"
          ]
        }
      ]
    },
    {
      "cell_type": "code",
      "source": [
        "print (\"resutlados obtenidos   : %s\" %len(words_))"
      ],
      "metadata": {
        "id": "PmKgX7sCMcDx",
        "colab": {
          "base_uri": "https://localhost:8080/"
        },
        "outputId": "52882e30-445b-4c0e-d0e8-e93a8acbc308"
      },
      "execution_count": null,
      "outputs": [
        {
          "output_type": "stream",
          "name": "stdout",
          "text": [
            "resutlados obtenidos   : 5\n"
          ]
        }
      ]
    },
    {
      "cell_type": "markdown",
      "source": [
        "*   **Pregunta 5.**  \n",
        "\n",
        "Busca e imprime todas las palabras que tengan una vocal acentuada, del tipo á, é, í, ó, ú. \n",
        "\n",
        "Indica cuántos resultados obtuviste."
      ],
      "metadata": {
        "id": "a1i6qv7-McmU"
      }
    },
    {
      "cell_type": "code",
      "source": [
        "docs_5 =[re.findall('\\w+(?:[a-z]á|[a-z]é|[a-z]í|[a-z]ó|[a-z]ú)',line) for line in docs_2 ]\n",
        "words_ = [ x for x in docs_5 if x != []]\n",
        "print (words_ )          "
      ],
      "metadata": {
        "id": "nZZ5zKUOMeGD",
        "colab": {
          "base_uri": "https://localhost:8080/"
        },
        "outputId": "f476b2d6-92df-4cd3-963c-20b776fe5c8e"
      },
      "execution_count": null,
      "outputs": [
        {
          "output_type": "stream",
          "name": "stdout",
          "text": [
            "[['fiancé'], ['Café'], ['puré']]\n"
          ]
        }
      ]
    },
    {
      "cell_type": "code",
      "source": [
        "print (\"las palabras con acentuacion son   : %s\" %len(words_))"
      ],
      "metadata": {
        "id": "l1mFvUEZMe8s",
        "colab": {
          "base_uri": "https://localhost:8080/"
        },
        "outputId": "5e84b179-ad84-4727-b03b-ee88a6516b24"
      },
      "execution_count": null,
      "outputs": [
        {
          "output_type": "stream",
          "name": "stdout",
          "text": [
            "las palabras con acentuacion son   : 3\n"
          ]
        }
      ]
    },
    {
      "cell_type": "markdown",
      "source": [
        "*   **Pregunta 6.**  \n",
        "\n",
        "Busca e imprime todas las cantidades numéricas monetarias, enteras o con decimales, que inician con el símbolo $\\$$. \n",
        "\n",
        "Indica cuántos resultados obtuviste."
      ],
      "metadata": {
        "id": "ZmPiAI82Mfb3"
      }
    },
    {
      "cell_type": "code",
      "source": [
        "docs_6 =[re.findall(r'\\$\\d*\\.*\\d+',line)for line in docs_2 ]\n",
        "words_ = [ x for x in docs_6 if x != []]\n",
        "print (words_ )        "
      ],
      "metadata": {
        "colab": {
          "base_uri": "https://localhost:8080/"
        },
        "id": "dK6_kqH9e9Vw",
        "outputId": "c1b7ac5c-3025-411b-ec1f-ea7df7690f0f"
      },
      "execution_count": 169,
      "outputs": [
        {
          "output_type": "stream",
          "name": "stdout",
          "text": [
            "[['$20'], ['$4.00'], ['$17'], ['$3'], ['$35'], ['$7.85'], ['$12'], ['$11.99']]\n"
          ]
        }
      ]
    },
    {
      "cell_type": "code",
      "source": [
        "print (\"resutlados obtenidos   : %s\" %len(words_))"
      ],
      "metadata": {
        "colab": {
          "base_uri": "https://localhost:8080/"
        },
        "id": "yWXq_ObRPme1",
        "outputId": "00e3d403-68d6-4420-a732-933232de94d3"
      },
      "execution_count": 170,
      "outputs": [
        {
          "output_type": "stream",
          "name": "stdout",
          "text": [
            "resutlados obtenidos   : 8\n"
          ]
        }
      ]
    },
    {
      "cell_type": "markdown",
      "source": [
        "*   **Pregunta 7.**  \n",
        "\n",
        "Busca e imprime todas las palabras que sean variantes de la palabra \"love\", sin importar si incluyen mayúsculas o minúsculas, o la manera en que esté conjugada o alguna otra variación que se haga con dicha palabra.\n",
        "\n",
        "Indica cuántos resultados obtuviste."
      ],
      "metadata": {
        "id": "2j-HpvhwMhq2"
      }
    },
    {
      "cell_type": "code",
      "source": [
        "docs_7 =[re.findall(r\"\\blo*ve\\w*\\b\",line,flags=re.IGNORECASE)for line in docs_2]\n",
        "words_ = [ x for x in docs_7 if x != []]\n",
        "print (words_ )        \n",
        "\n"
      ],
      "metadata": {
        "id": "kqqyRChVMjol",
        "colab": {
          "base_uri": "https://localhost:8080/"
        },
        "outputId": "442e763f-9d46-4b97-c078-8c7fc0b4c323"
      },
      "execution_count": 163,
      "outputs": [
        {
          "output_type": "stream",
          "name": "stdout",
          "text": [
            "[['Loved'], ['loved'], ['Loved'], ['love'], ['loves'], ['LOVED'], ['lovers'], ['love'], ['lovers'], ['Love'], ['loved'], ['loved'], ['love'], ['love'], ['love'], ['loved'], ['love'], ['loved'], ['Love'], ['LOVED'], ['love'], ['lovely'], ['love'], ['lovely'], ['love'], ['lover'], ['loved'], ['love'], ['love'], ['love'], ['love'], ['love'], ['love'], ['love'], ['love']]\n"
          ]
        }
      ]
    },
    {
      "cell_type": "code",
      "source": [
        "print (\"resutlados obtenidos   : %s\" %len(words_))"
      ],
      "metadata": {
        "id": "UXd0VQluMj_x",
        "colab": {
          "base_uri": "https://localhost:8080/"
        },
        "outputId": "ecbe5d04-4a6b-4b5f-d5fb-77904b6807f4"
      },
      "execution_count": 162,
      "outputs": [
        {
          "output_type": "stream",
          "name": "stdout",
          "text": [
            "resutlados obtenidos   : 35\n"
          ]
        }
      ]
    },
    {
      "cell_type": "markdown",
      "source": [
        "*   **Pregunta 8.**  \n",
        "\n",
        "Busca e imprime todas las palabras, variantes de \"so\" y \"good\", que tengan dos o más \"o\" en \"so\" y 3 o más \"o\" en good. \n",
        "\n",
        "Indica cuántas encontraste.\n"
      ],
      "metadata": {
        "id": "Ctb-NTY3MkYG"
      }
    },
    {
      "cell_type": "code",
      "source": [
        "docs_8 =[re.findall(r\"\\w+(?:oo\\w)\\b\",line )for line in docs_2] #la w al final es para incluir mas texto\n",
        "# docs_7a =[re.findall(r\"\\w+(?:g\\w)\\b\",line )for line in docs_7]\n",
        "words_ = [ x for x in docs_8 if x != []]\n",
        "\n",
        "docs_8a = [re.findall(r\"(g\\w+)\",b )for line in words_ for b in line] #w para una letra, w+ para todas las letras\n",
        "words_2 = [ x for x in docs_8a if x != []]\n",
        "print (words_2 )\n",
        "\n",
        "docs_8b = [re.findall(r\"(so\\w+o)\",b )for line in words_ for b in line] #w para una letra, w+ para todas las letras\n",
        "words_3= [ x for x in docs_8b if x != []]\n",
        "print (words_3 )\n",
        "\n"
      ],
      "metadata": {
        "id": "A8Nf3B_cMlqg",
        "colab": {
          "base_uri": "https://localhost:8080/"
        },
        "outputId": "70e6f006-ce5d-480d-dff4-cff3fde1c454"
      },
      "execution_count": null,
      "outputs": [
        {
          "output_type": "stream",
          "name": "stdout",
          "text": [
            "[['good'], ['good'], ['good'], ['good'], ['good'], ['good'], ['good'], ['good'], ['good'], ['good'], ['good'], ['good'], ['good'], ['good'], ['good'], ['good'], ['good'], ['good'], ['good'], ['good'], ['good'], ['good'], ['good'], ['good'], ['good'], ['good'], ['good'], ['good'], ['good'], ['good'], ['good'], ['ghborhood'], ['good'], ['good'], ['good'], ['good'], ['good'], ['good'], ['good'], ['good'], ['good'], ['good'], ['good'], ['good'], ['good'], ['good'], ['good'], ['good'], ['good'], ['good'], ['good'], ['good'], ['good'], ['good'], ['good'], ['good'], ['good'], ['good'], ['good'], ['good'], ['good'], ['good'], ['good'], ['good'], ['ghborhood'], ['good'], ['good'], ['good'], ['good'], ['good'], ['good'], ['good'], ['good'], ['good'], ['good'], ['good'], ['good'], ['good'], ['good'], ['good'], ['good'], ['good'], ['good'], ['good'], ['good'], ['good'], ['good'], ['good'], ['good'], ['good'], ['good']]\n",
            "[['soooo'], ['soooooo'], ['soooo']]\n"
          ]
        }
      ]
    },
    {
      "cell_type": "code",
      "source": [
        "print (\"resutlados obtenidos   : %s\" %len(words_2+words_3))"
      ],
      "metadata": {
        "id": "svS4-vvPMl6f",
        "colab": {
          "base_uri": "https://localhost:8080/"
        },
        "outputId": "8fefe586-011e-48b8-9b7b-8688eb5ac75e"
      },
      "execution_count": null,
      "outputs": [
        {
          "output_type": "stream",
          "name": "stdout",
          "text": [
            "resutlados obtenidos   : 94\n"
          ]
        }
      ]
    },
    {
      "cell_type": "markdown",
      "source": [
        "*   **Pregunta 9.**  \n",
        "\n",
        "Busca e imprime todas las palabras que tengan una longitud mayor estrictamente a 10 caracteres alfabéticos.\n",
        "\n",
        "No se consideran los signos de puntuación o caracteres especiales en la longitud de estas cadenas, solo caracteres alfabéticos en mayúsculas o minúsculas.\n",
        "\n",
        "Indica la cantidad de palabras encontradas.\n"
      ],
      "metadata": {
        "id": "hkak1opjMmlk"
      }
    },
    {
      "cell_type": "code",
      "source": [
        "docs_9 =[re.findall(r\"\\b[a-zA-Z]{10}\\b\",line )for line in docs_2] #la \\b al inicio es tambien para que empiece con algo que no sea alfanumerico\n",
        "words_ = [ x for x in docs_9 if x != []]\n",
        "print(words_)"
      ],
      "metadata": {
        "id": "PYxdp3uhMoD0",
        "colab": {
          "base_uri": "https://localhost:8080/"
        },
        "outputId": "6c1b743a-4405-401f-a4b5-aa4d114f605e"
      },
      "execution_count": null,
      "outputs": [
        {
          "output_type": "stream",
          "name": "stdout",
          "text": [
            "[['overpriced'], ['restaurant'], ['restaurant'], ['refreshing'], ['sunglasses'], ['absolutely', 'restaurant'], ['APPETIZERS'], ['definitely'], ['apparently'], ['Everything'], ['experience'], ['Tigerlilly'], ['personable'], ['restaurant', 'definitely'], ['atmosphere'], ['experience'], ['Phenomenal'], ['Definitely'], ['overpriced'], ['management'], ['selections'], ['restaurant'], ['highlights'], ['everything'], ['reasonably'], ['Restaurant'], ['waitresses'], ['Everything', 'vegetarian'], ['atmosphere'], ['definitely'], ['absolutely', 'overcooked'], ['incredible'], ['EXPERIENCE'], ['uninspired'], ['experience'], ['flavourful'], ['restaurant'], ['privileged'], ['complaints'], ['godfathers'], ['restaurant', 'atmosphere'], ['absolutely'], ['proclaimed'], ['restaurant'], ['definitely'], ['incredible'], ['convenient'], ['incredibly'], ['everything'], ['delightful'], ['reasonable'], ['restaurant', 'especially'], ['atmosphere'], ['Everything'], ['whatsoever'], ['vegetables'], ['atmosphere', 'appetizers'], ['restaurant'], ['Definitely'], ['despicable'], ['MANAGEMENT'], ['outshining', 'definitely'], ['experience'], ['experience'], ['reasonable'], ['incredible'], ['atmosphere'], ['perfection', 'impeccable'], ['accountant'], ['frustrated'], ['definitely'], ['completely'], ['companions', 'everything'], ['everywhere'], ['complaints'], ['connisseur'], ['restaurant'], ['absolutley'], ['definitely'], ['restaurant'], ['definitely', 'difference'], ['Definitely'], ['reasonable'], ['forgetting'], ['margaritas'], ['disappoint'], ['definitely'], ['absolutely'], ['restaurant'], ['humiliated'], ['CONCLUSION'], ['experience'], ['incredible'], ['Thoroughly'], ['Reasonably'], ['Everything'], ['restaurant'], ['Everything'], ['management'], ['restaurant'], ['yellowtail'], ['experience', 'particular'], ['restaurant'], ['vinegrette'], ['disgusting'], ['management'], ['accomodate'], ['satisfying'], ['Scottsdale'], ['definitely'], ['businesses'], ['experience'], ['management'], ['especially'], ['impeccable'], ['Experience'], ['restaurant'], ['experience'], ['atmosphere', 'violinists'], ['personally'], ['convenient'], ['perfection'], ['disappoint'], ['themselves'], ['atmosphere'], ['reasonable'], ['soundtrack'], ['absolutely'], ['definitely'], ['definitely'], ['atmosphere'], ['atmosphere'], ['everything'], ['definitely', 'revisiting'], ['restaurant'], ['experience'], ['restaurant', 'restaurant'], ['vegetarian'], ['management'], ['vinegrette'], ['definitely'], ['definately'], ['affordable'], ['absolutely'], ['bartenders', 'absolutely'], ['margaritas'], ['restaraunt'], ['girlfriend'], ['experience'], ['flavorless', 'describing'], ['everything'], ['atmosphere'], ['vegetables', 'overcooked'], ['bruschetta'], ['mozzarella'], ['experience'], ['overpriced', 'consistent', 'OVERPRICED'], ['officially'], ['definitely'], ['containers'], ['experience'], ['overpriced'], ['especially'], ['reasonable'], ['restaurant'], ['Everything'], ['sandwiches', 'everything'], ['restaurant'], ['completely', 'delightful', 'experience'], ['flavorless'], ['definately'], ['Albondigas'], ['absolutely'], ['selections'], ['strawberry'], ['experience'], ['satisfying', 'occasional'], ['steakhouse', 'understand'], ['experience'], ['disgusting'], ['definitely'], ['experience'], ['ridiculous'], ['vegetables'], ['overpriced'], ['Vegetarian'], ['restaurant'], ['correction'], ['Overpriced'], ['restaurant'], ['vegetables'], ['impressive'], ['experience']]\n"
          ]
        }
      ]
    },
    {
      "cell_type": "code",
      "source": [
        "print (\"resultados obtenidos   : %s\" %len(words_))"
      ],
      "metadata": {
        "id": "BR7e2F4FMof-",
        "colab": {
          "base_uri": "https://localhost:8080/"
        },
        "outputId": "771135a3-27b9-40be-cddd-1f71ad793b98"
      },
      "execution_count": null,
      "outputs": [
        {
          "output_type": "stream",
          "name": "stdout",
          "text": [
            "resultados obtenidos   : 193\n"
          ]
        }
      ]
    },
    {
      "cell_type": "markdown",
      "source": [
        "*   **Pregunta 10.**  \n",
        "\n",
        "Busca e imprime todas las palabras que inician con una letra mayúscula y terminan con una minúscula, pero que además no sea la primera palabra del comentario/string. \n",
        "\n",
        "Indica la cantidad de resultados obtenidos."
      ],
      "metadata": {
        "id": "ApjTNzSxMpDc"
      }
    },
    {
      "cell_type": "code",
      "source": [
        "docs_10 =[re.sub(r\"^\\W*\\w*'\\w*\\W*|^\\W*\\w*\\W*\",'',line)for line in docs_2]\n",
        "words_a = [ x for x in docs_10 if x != []]\n",
        "\n",
        "docs_10a =[re.findall(r\"[A-Z]\\w*[a-z]\",line )for line in words_a]\n",
        "words_b = [ x[0] for x in docs_10a if x != []]\n",
        "print(words_b)\n"
      ],
      "metadata": {
        "colab": {
          "base_uri": "https://localhost:8080/"
        },
        "id": "Z3XCqWMo7CGv",
        "outputId": "8f9ea2a5-5e42-4dbf-9fa0-bbd1f1aa0484"
      },
      "execution_count": null,
      "outputs": [
        {
          "output_type": "stream",
          "name": "stdout",
          "text": [
            "['Loved', 'May', 'Cape', 'Vegas', 'Burrittos', 'The', 'Mexican', 'Luke', 'Hiro', 'Firehouse', 'Greek', 'Heart', 'Dos', 'Jeff', 'Excalibur', 'Very', 'Vegas', 'Pho', 'Hard', 'Buffet', 'Tigerlilly', 'Yama', 'Thai', 'Indian', 'Not', 'Vegas', 'Lox', 'Subway', 'Vegas', 'Vegas', 'Mandalay', 'Great', 'Voodoo', 'Phoenix', 'Vegas', 'Khao', 'Lemon', 'Joey', 'Pho', 'Fridays', 'Tasty', 'Jamaican', 'Bisque', 'Otto', 'Yeah', 'Honestly', 'Not', 'Also', 'Vegas', 'Greek', 'Vegas', 'Veggitarian', 'Madison', 'Jenni', 'Bachi', 'Pizza', 'They', 'Yelpers', 'Bachi', 'Service', 'English', 'Pizza', 'Seat', 'Gold', 'Thai', 'Tucson', 'Vegas', 'Chipotle', 'Baseball', 'Gordon', 'Outstanding', 'Lobster', 'Vegas', 'Eggplant', 'Halibut', 'Vegas', 'Vegas', 'Vegas', 'Ians', 'Bouchon', 'San', 'Buldogis', 'Steiners', 'Carly', 'Vegas', 'Camelback', 'Las', 'Bunch', 'Very', 'Mom', 'Noca', 'Vegas', 'Mexican', 'Frenchman', 'Perfect', 'Vegas', 'Palm', 'Are', 'This', 'Thai', 'Toast', 'Thai', 'Phoenix', 'Crema', 'Philadelphia', 'North', 'Bloody', 'Pho', 'Caesar', 'Macarons', 'Experience', 'Very', 'Italian', 'Vegas', 'Baba', 'Nobu', 'Smashburger', 'Panna', 'Breeze', 'The', 'Strip', 'Paradise', 'Thumbs', 'Italian', 'Pros', 'Elk', 'Dylan', 'Han', 'Bar', 'Chinese', 'Indian', 'Chinese', 'Prices', 'Phoenix', 'Hot', 'Sunday', 'Hunan', 'The', 'Pita', 'Wienerschnitzel', 'Maine', 'Kabuki', 'Maria', 'Caballero', 'Wife', 'Everything', 'Strip', 'Costco', 'To', 'Japanese', 'Albondigas', 'Mediterranean', 'Mellow', 'Thai', 'Vegas', 'Mmmm', 'Buffet', 'Vegas', 'Christmas', 'Denny', 'Vegetarian', 'Taco', 'Heimer', 'Ha', 'Subway', 'When', 'Mirage', 'In', 'Ninja']\n"
          ]
        }
      ]
    },
    {
      "cell_type": "code",
      "source": [
        "print (\"resultados obtenidos   : %s\" %len(words_b))"
      ],
      "metadata": {
        "colab": {
          "base_uri": "https://localhost:8080/"
        },
        "id": "uU-B-UGkBuJj",
        "outputId": "604aff6f-1a63-4680-bd41-88c9eac521d2"
      },
      "execution_count": null,
      "outputs": [
        {
          "output_type": "stream",
          "name": "stdout",
          "text": [
            "resultados obtenidos   : 169\n"
          ]
        }
      ]
    },
    {
      "cell_type": "markdown",
      "source": [
        "*   **Pregunta 11.**  \n",
        "\n",
        "Busca e imprime la secuencia de dos o más palabras que están separadas por un guion, \"-\", sin que tengan espacios en blanco entre ellas.\n",
        "\n",
        "Por ejemplo \"Go-Kart\" sería válido, pero \"Go  -Kart\" o \"Go  -  Kart\" no lo serían. \n",
        "\n",
        "Indica la cantidad de resultados obtenidos."
      ],
      "metadata": {
        "id": "u7nfm4KhMrNW"
      }
    },
    {
      "cell_type": "code",
      "source": [
        "docs_11 =[re.findall(r\"\\w+\\-\\w+\",line )for line in docs_2]\n",
        "words_ = [ y for x in docs_11 if x != [] for y in x]\n",
        "words_"
      ],
      "metadata": {
        "id": "OwU-a7eGMsub",
        "colab": {
          "base_uri": "https://localhost:8080/"
        },
        "outputId": "f4dd9bb9-d7a7-4f86-8906-3fc2e4e64a32"
      },
      "execution_count": null,
      "outputs": [
        {
          "output_type": "execute_result",
          "data": {
            "text/plain": [
              "['flat-lined',\n",
              " 'hands-down',\n",
              " 'must-stop',\n",
              " 'sub-par',\n",
              " 'Service-check',\n",
              " 'in-house',\n",
              " 'been-stepped',\n",
              " 'in-and',\n",
              " 'tracked-everywhere',\n",
              " 'multi-grain',\n",
              " 'to-go',\n",
              " 'non-customer',\n",
              " 'High-quality',\n",
              " 'sit-down',\n",
              " 'over-whelm',\n",
              " 'low-key',\n",
              " 'non-fancy',\n",
              " 'golden-crispy',\n",
              " 'over-priced',\n",
              " 'over-hip',\n",
              " 'under-services']"
            ]
          },
          "metadata": {},
          "execution_count": 26
        }
      ]
    },
    {
      "cell_type": "code",
      "source": [
        "print (\"resultados obtenidos   : %s\" %len(words_))"
      ],
      "metadata": {
        "id": "SgzIL74ZMtGw",
        "colab": {
          "base_uri": "https://localhost:8080/"
        },
        "outputId": "ce4e6b16-5525-44c1-d6b5-d9ac59a30f0a"
      },
      "execution_count": null,
      "outputs": [
        {
          "output_type": "stream",
          "name": "stdout",
          "text": [
            "resultados obtenidos   : 21\n"
          ]
        }
      ]
    },
    {
      "cell_type": "markdown",
      "source": [
        "*   **Pregunta 12.**  \n",
        "\n",
        "Busca e imprime todas las palabras que terminan en \"ing\" o \"ed\". \n",
        "\n",
        "Indica la cantidad de palabras que encontraste de cada una."
      ],
      "metadata": {
        "id": "DEIgl79HMthr"
      }
    },
    {
      "cell_type": "code",
      "source": [
        "docs_12 =[re.findall(r\"\\w+(?:ing|ed|ED|ING)\\b\",line )for line in docs_2]\n",
        "words_ = [ x for x in docs_12 if x != []]\n",
        "print (words_ )     "
      ],
      "metadata": {
        "id": "I4TSofBMMv9y",
        "colab": {
          "base_uri": "https://localhost:8080/"
        },
        "outputId": "23598853-a6c3-4d04-ad74-b65df8d9ec04"
      },
      "execution_count": null,
      "outputs": [
        {
          "output_type": "stream",
          "name": "stdout",
          "text": [
            "[['Loved'], ['Stopped', 'during', 'loved'], ['getting'], ['being'], ['ended', 'being', 'overpriced'], ['tried'], ['disgusted'], ['shocked'], ['recommended'], ['amazing'], ['performed'], ['red'], ['asked'], ['running', 'overwhelmed'], ['redeeming'], ['grossed', 'melted', 'getting'], ['provided'], ['thing'], ['cooked'], ['dressing', 'refreshing'], ['ordered'], ['running', 'realized'], ['Loved'], ['lined'], ['cooked'], ['ripped', 'ripped', 'petrified'], ['amazing'], ['included', 'expected'], ['nothing'], ['appalling'], ['seasoned'], ['cheated', 'wasting', 'eating', 'going'], ['Coming', 'experiencing', 'underwhelming'], ['walked', 'smelled', 'eating'], ['raving', 'tailored'], ['spring'], ['unsatisfying'], ['amazing'], ['Everything'], ['disappointing', 'dining'], ['flirting'], ['arrived'], ['roasted', 'added'], ['thing', 'coming'], ['LOVED', 'cooked'], ['playing'], ['passed', 'ordering', 'arriving'], ['liked', 'disappointing'], ['managed', 'served', 'preparing'], ['loving'], ['liking', 'reviewing'], ['venturing'], ['overpriced'], ['including'], ['during'], ['checked'], ['disappointed'], ['red'], ['decorated'], ['changing', 'going'], ['considering', 'served', 'coming'], ['watched'], ['greeted', 'seated'], ['waited'], ['flavored'], ['ordered', 'going'], ['everything', 'ordered'], ['relocated', 'impressed'], ['seated'], ['priced'], ['looking'], ['treated'], ['ordered', 'dressing'], ['dining', 'used', 'handed', 'listed'], ['missed'], ['Everything', 'thrilled', 'amazing'], ['judging', 'inspired'], ['desired'], ['maintaining'], ['asking'], ['overcooked'], ['decided', 'looked', 'having'], ['dressed', 'treated'], ['something', 'lacking'], ['ordered'], ['sucked', 'expected', 'sucked', 'imagined'], ['Interesting'], ['served'], ['preparing'], ['arrived', 'missing'], ['feeling', 'satisfied'], ['voted'], ['insulted', 'disrespected'], ['exceeding', 'dreamed'], ['inviting'], ['lived', 'stepped'], ['mixed'], ['showed', 'climbing'], ['waiting', 'realized', 'coming'], ['loved'], ['being'], ['lacking'], ['needed'], ['going'], ['loved', 'wrapped'], ['uninspired'], ['amazing'], ['dealing', 'annoying'], ['Ordered', 'falling', 'uploaded'], ['sporting', 'covered'], ['supposed', 'amazing'], ['rolled', 'stayed'], ['providing'], ['building', 'FREEZING'], ['lighting'], ['Based', 'received', 'going'], ['nothing', 'privileged', 'working', 'eating'], ['dressing'], ['being', 'charged'], ['visited'], ['proclaimed', 'disappointed'], ['Stopped'], ['dedicated'], ['liked', 'outstanding'], ['getting'], ['disappointed'], ['waited', 'waited'], ['burned'], ['waited'], ['amazing'], ['disappointed'], ['Waited'], ['disappointed'], ['pulled'], ['prepared'], ['rating', 'eating', 'writing'], ['everything'], ['dining'], ['fried'], ['boring'], ['passed'], ['charming'], ['ordered', 'toasted', 'untoasted'], ['going'], ['figured', 'making'], ['pricing'], ['considering'], ['returned', 'amazing'], ['eyed'], ['disappointed'], ['pleased'], ['Everything'], ['replenished'], ['disappointed'], ['nothing'], ['nothing'], ['driving'], ['treated'], ['during'], ['evening'], ['offered'], ['Outstanding', 'tasted'], ['buying'], ['handling'], ['wasting'], ['craving'], ['dropped'], ['dining', 'decorated'], ['interesting', 'amazing'], ['being', 'served'], ['outshining'], ['HAPPENED'], ['starving'], ['coming'], ['walked', 'stuffed'], ['considering', 'located', 'shopping'], ['nothing'], ['Cooked'], ['disappointed'], ['getting', 'screwed'], ['frustrated'], ['iced'], ['stuffed'], ['disappointed'], ['trying'], ['grossed'], ['enjoyed', 'eating'], ['going'], ['looked', 'overwhelmed', 'stayed'], ['everything'], ['smeared', 'stepped', 'tracked'], ['tried'], ['rushed'], ['loved'], ['Ordered'], ['Nothing'], ['cooked'], ['going'], ['insulted'], ['contained'], ['enjoyed', 'relaxed'], ['loved'], ['outstanding'], ['running'], ['acknowledged', 'forgetting'], ['upgrading'], ['trimmed', 'cooked'], ['claimed', 'handled'], ['LOVED'], ['asked', 'eating', 'bring'], ['hoping', 'living'], ['limited', 'boiled'], ['dining'], ['liked', 'sliced'], ['attached'], ['humiliated'], ['filling'], ['fried'], ['amazing'], ['impressed'], ['disappointed'], ['priced'], ['Everything'], ['disappointed'], ['thing'], ['amazing'], ['need'], ['Everything'], ['interesting', 'need'], ['experienced'], ['amazing'], ['amazing'], ['waited', 'seated', 'waiting'], ['going'], ['going'], ['dining', 'decided'], ['pleased'], ['saving'], ['something'], ['trying'], ['disgusting'], ['hankering'], ['recommended'], ['being', 'helped'], ['witnessed'], ['Waited', 'waited', 'waited'], ['checked'], ['tasted'], ['disappointed'], ['being', 'served'], ['rated'], ['recommended'], ['pulled', 'waited', 'being', 'acknowledged'], ['setting'], ['perpared', 'dusted', 'powdered'], ['enjoyed', 'expanded'], ['sitting', 'ended', 'waiting', 'arrived'], ['satisfying'], ['wanted'], ['disappointed'], ['eating'], ['need', 'being', 'freaking'], ['checked', 'impressed'], ['reheated'], ['getting'], ['amazing'], ['tasted'], ['disappointing'], ['grilled', 'seasoning'], ['going'], ['focused'], ['roasted'], ['asked', 'being', 'ignored'], ['bring'], ['letting'], ['tasted'], ['evening'], ['Ordered'], ['greeted', 'seated'], ['Tried'], ['waiting', 'being', 'seated'], ['eating'], ['going'], ['Disappointed', 'ordered'], ['constructed'], ['seating'], ['fried'], ['playing', 'requested'], ['amazing'], ['staying'], ['used'], ['tasted'], ['giving'], ['talking'], ['amazing'], ['drenched'], ['amazing'], ['amazing'], ['tried'], ['walked', 'expected', 'amazing', 'disappointed'], ['mortified'], ['filling'], ['dripping'], ['impressed'], ['going'], ['serving'], ['refrained', 'recommending'], ['pleased'], ['thing'], ['reading'], ['loved', 'grilled', 'reminded'], ['seating'], ['sucked'], ['hooked'], ['ordered', 'going', 'disappointed', 'everything'], ['seasoned'], ['thing', 'added'], ['sitting', 'waiting', 'bring'], ['revisiting'], ['coming'], ['touched'], ['anything'], ['fried'], ['opened', 'impressed'], ['feeling'], ['during'], ['watched'], ['thing'], ['being'], ['Tasted'], ['amazing'], ['being'], ['amazing'], ['ordered'], ['satifying'], ['describing'], ['coming'], ['everything'], ['received'], ['Paying'], ['going'], ['impressed'], ['overcooked'], ['cooked'], ['needed', 'served'], ['thing', 'ordered'], ['amazing'], ['overpriced', 'OVERPRICED'], ['packed'], ['getting'], ['opposed', 'cramming'], ['priced'], ['surprised', 'considering', 'focused'], ['overpriced', 'fucking'], ['tried'], ['enjoyed'], ['going'], ['qualified', 'tasted'], ['hated'], ['appealing'], ['getting'], ['coming'], ['watched', 'Everything', 'fried'], ['dealing'], ['everything', 'tried'], ['something', 'during'], ['helped'], ['dining', 'cooking', 'dining'], ['started', 'editing'], ['highlighted', 'setting'], ['used', 'amazing'], ['enjoyed'], ['ordered', 'tasted'], ['asked'], ['refused'], ['tried'], ['rotating'], ['Pricing'], ['toasted', 'satisfying'], ['anticipated'], ['disappointing'], ['amazing'], ['returning'], ['unexperienced', 'running'], ['insulted', 'disrespected', 'being'], ['impressed'], ['thing', 'puréed'], ['nothing'], ['poisoning'], ['thinking', 'something'], ['going'], ['disgusting'], ['caring'], ['bring', 'asked'], ['Disappointing'], ['rated', 'saying'], ['going'], ['lacked'], ['coming'], ['sliced', 'pulled'], ['building'], ['seating'], ['undercooked'], ['dipping', 'seemed', 'watered'], ['lacked'], ['disappointed'], ['overpriced'], ['setting'], ['ensued'], ['anything'], ['drinking'], ['serving'], ['disappointed', 'placed'], ['avoided'], ['received'], ['wanted', 'doing'], ['sucked'], ['happened', 'putting'], ['owned', 'wanted'], ['Overpriced', 'getting'], ['vomited'], ['looking'], ['started'], ['coming'], ['unwrapped'], ['lacked', 'seemed', 'undercooked'], ['closed'], ['staying'], ['refried', 'dried'], ['disappointed'], ['lacking'], ['impressed'], ['underwhelming'], ['wasted', 'poured', 'drawing', 'bring']]\n"
          ]
        }
      ]
    },
    {
      "cell_type": "code",
      "source": [
        "print (\"resutlados obtenidos   : %s\" %len(words_))"
      ],
      "metadata": {
        "id": "AhGq6De2Mvyh",
        "colab": {
          "base_uri": "https://localhost:8080/"
        },
        "outputId": "d02ec265-ff63-4720-907f-0ffaede0e021"
      },
      "execution_count": null,
      "outputs": [
        {
          "output_type": "stream",
          "name": "stdout",
          "text": [
            "resutlados obtenidos   : 434\n"
          ]
        }
      ]
    },
    {
      "cell_type": "markdown",
      "source": [
        "#**Parte 3. Proceso de limpieza.**"
      ],
      "metadata": {
        "id": "70StdqAZa9E9"
      }
    },
    {
      "cell_type": "markdown",
      "source": [
        "*   **Pregunta 13.**  \n",
        "\n",
        "Ahora realiza un proceso de limpieza del corpus que incluya los siguientes procesos:\n",
        "\n",
        "*   Solo se deben considerar caracteres alfabéticos. Es decir, se eliminan todos los signos de puntuación y caracteres especiales.\n",
        "*   Todos los caracteres alfabéticos se transforman a minúsculas.\n",
        "*   Se deben eliminar todos los espacios en blanco adicionales que se puedan encontrar en cada comentario.\n",
        "\n",
        "Al finalizar dicho proceso de limpieza, imprime el resultado de los primeros 10 comentarios resultantes. \n",
        "   \n",
        "\n",
        "\n"
      ],
      "metadata": {
        "id": "xaDUFXHrMvX2"
      }
    },
    {
      "cell_type": "code",
      "source": [
        "docs_11 =[re.sub(r\"[^a-zA-Z\\s]\",'',line )for line in docs_2]\n",
        "docs_11b = [x.lower() for x in docs_11]"
      ],
      "metadata": {
        "id": "K3kQzPOPMx0w"
      },
      "execution_count": null,
      "outputs": []
    },
    {
      "cell_type": "code",
      "source": [
        "docs_11b[0:10]"
      ],
      "metadata": {
        "id": "mYEDlHSFMyJN",
        "colab": {
          "base_uri": "https://localhost:8080/"
        },
        "outputId": "6a4529ec-351b-43cd-c2f8-68032ae8aebc"
      },
      "execution_count": null,
      "outputs": [
        {
          "output_type": "execute_result",
          "data": {
            "text/plain": [
              "['wow loved this place',\n",
              " 'crust is not good',\n",
              " 'not tasty and the texture was just nasty',\n",
              " 'stopped by during the late may bank holiday off rick steve recommendation and loved it',\n",
              " 'the selection on the menu was great and so were the prices',\n",
              " 'now i am getting angry and i want my damn pho',\n",
              " 'honeslty it didnt taste that fresh',\n",
              " 'the potatoes were like rubber and you could tell they had been made up ahead of time being kept under a warmer',\n",
              " 'the fries were great too',\n",
              " 'a great touch']"
            ]
          },
          "metadata": {},
          "execution_count": 31
        }
      ]
    },
    {
      "cell_type": "markdown",
      "source": [
        "*   **Pregunta 14.**  \n",
        "\n",
        "Con el resultado de la limpieza obtenido en la pregunta anterior, realiza ahora un proceso de tokenización por palabras del corpus. \n",
        "\n",
        "Es decir, al final de este proceso de tokenización, debes tener como resultado una lista de listas, donde cada comentario estará tokenizado por palabras.\n",
        "\n",
        "Al terminar calcula el total de tokens obtenido en todo el corpus. "
      ],
      "metadata": {
        "id": "WZwEhg2lUSAX"
      }
    },
    {
      "cell_type": "code",
      "source": [
        "docs_14 =[re.findall(r'\\b[a-zA-Z]+\\b',line )for line in docs_11]\n",
        "words_ = [ y for x in docs_14 for y in x]\n"
      ],
      "metadata": {
        "id": "kbAL9-v0V-jx"
      },
      "execution_count": null,
      "outputs": []
    },
    {
      "cell_type": "code",
      "source": [
        "print (\"resutlados obtenidos   : %s\" %len(words_))"
      ],
      "metadata": {
        "id": "DZs_etmiV-fd",
        "colab": {
          "base_uri": "https://localhost:8080/"
        },
        "outputId": "a6a85d9f-db9e-4722-92f2-21ef66020d2e"
      },
      "execution_count": null,
      "outputs": [
        {
          "output_type": "stream",
          "name": "stdout",
          "text": [
            "resutlados obtenidos   : 10777\n"
          ]
        }
      ]
    },
    {
      "cell_type": "markdown",
      "source": [
        "*   **Pregunta 15.**  \n",
        "\n",
        "Finalmente, en este ejercicio definiremos nuestro conjunto de palabras \"stopwords\", las cuales deberás eliminar de todo el corpus. \n",
        "\n",
        "Recuerda que ejemplos de stopwords son artículos, adverbios, conectivos, etcétera, que tienen frecuencias de aparición muy altas en cualquier documento, pero que no brindan mucho significado en cuanto al significado de un enunciado.\n",
        "\n",
        "Con base a la lista de stopwords que se te proporciona, realiza un proceso de limpieza eliminando todas estas palabras del corpus obtenido en el ejercicio anterior.\n",
        "\n",
        "Obtener cuántos tokens/palabras quedan finalmente en todo el corpus.\n",
        "\n",
        "Obtener cuántos de estos tokens/palabras son diferentes, es decir, cuántos tokens únicos tendrá lo que llamaremos más adelante nuestro vocabulario."
      ],
      "metadata": {
        "id": "EFeu0OJ7WDPD"
      }
    },
    {
      "cell_type": "code",
      "source": [
        "# Considera la siguiente lista como tu conjunto de stopwords:\n",
        "mis_stopwords = ['i', 'me', 'my', 'myself', 'we', 'our', 'ours', 'ourselves', 'you', 'your', 'yours', 'he', 'him', 'his', 'himself', 'she', 'her', 'hers', 'herself', 'it', 'its', 'itself', 'they', 'them', 'their', 'theirs', 'themselves', 'what', 'which', 'who', 'whom', 'this', 'that', 'these', 'those', 'am', 'is', 'are', 'was', 'were', 'be', 'been', 'being', 'have', 'has', 'had', 'having', 'do', 'does', 'did', 'doing', 'a', 'an', 'the', 'and', 'but', 'if', 'or', 'because', 'as', 'until', 'while', 'of', 'at', 'by', 'for', 'with', 'about', 'against', 'between', 'into', 'through', 'during', 'before', 'after', 'above', 'below', 'to', 'from', 'up', 'down', 'in', 'out', 'on', 'over', 'under', 'again', 'further', 'then', 'once', 'here', 'there', 'when', 'where', 'why', 'how', 'all', 'any', 'both', 'each', 'few', 'more', 'most', 'other', 'some', 'such', 'only', 'own', 'same', 'so', 'than', 'too', 'very', 's', 't', 'can', 'will', 'just', 'should', 'now', 'll']"
      ],
      "metadata": {
        "id": "6FP4FF3KXGxm"
      },
      "execution_count": null,
      "outputs": []
    },
    {
      "cell_type": "code",
      "source": [
        "stopwords = r'\\b(' + '|'.join(mis_stopwords) + r')\\b'"
      ],
      "metadata": {
        "id": "CD8yjyq1ZrwY"
      },
      "execution_count": null,
      "outputs": []
    },
    {
      "cell_type": "code",
      "source": [
        "WithoutSW = [re.sub(stopwords,'', line) for line in docs_11b]\n",
        "WithoutSW[0:10]"
      ],
      "metadata": {
        "id": "4ZPi5prKZro5",
        "colab": {
          "base_uri": "https://localhost:8080/"
        },
        "outputId": "17a6f56a-0aae-49ba-c480-fd89fefa69fc"
      },
      "execution_count": null,
      "outputs": [
        {
          "output_type": "execute_result",
          "data": {
            "text/plain": [
              "['wow loved  place',\n",
              " 'crust  not good',\n",
              " 'not tasty   texture   nasty',\n",
              " 'stopped    late may bank holiday off rick steve recommendation  loved ',\n",
              " ' selection   menu  great     prices',\n",
              " '   getting angry   want  damn pho',\n",
              " 'honeslty  didnt taste  fresh',\n",
              " ' potatoes  like rubber   could tell    made  ahead  time  kept   warmer',\n",
              " ' fries  great ',\n",
              " ' great touch']"
            ]
          },
          "metadata": {},
          "execution_count": 36
        }
      ]
    },
    {
      "cell_type": "code",
      "source": [
        "docs_15 =[re.findall(r'\\b[a-zA-Z]+\\b',line )for line in WithoutSW]\n",
        "words_ = [ y for x in docs_15 for y in x]\n",
        "print (\"resutlados obtenidos   : %s\" %len(words_))"
      ],
      "metadata": {
        "colab": {
          "base_uri": "https://localhost:8080/"
        },
        "id": "BhLdLrw5J72F",
        "outputId": "4d7187b0-36c4-415c-9930-e56e0b336692"
      },
      "execution_count": null,
      "outputs": [
        {
          "output_type": "stream",
          "name": "stdout",
          "text": [
            "resutlados obtenidos   : 5776\n"
          ]
        }
      ]
    },
    {
      "cell_type": "code",
      "source": [
        "diccionario = {}\n",
        "\n",
        "for palabra in words_:    \n",
        "    if palabra not in diccionario:\n",
        "        diccionario[palabra] = 1    \n",
        "    else:\n",
        "        diccionario[palabra] += 1\n",
        "\n",
        "print(diccionario)\n",
        "len(diccionario)"
      ],
      "metadata": {
        "colab": {
          "base_uri": "https://localhost:8080/"
        },
        "id": "INHe4FXwKvcZ",
        "outputId": "07272fb4-5a82-4fd6-e7fe-7877de4b7326"
      },
      "execution_count": null,
      "outputs": [
        {
          "output_type": "stream",
          "name": "stdout",
          "text": [
            "{'wow': 3, 'loved': 10, 'place': 106, 'crust': 2, 'not': 116, 'good': 95, 'tasty': 11, 'texture': 3, 'nasty': 3, 'stopped': 2, 'late': 2, 'may': 5, 'bank': 1, 'holiday': 1, 'off': 8, 'rick': 1, 'steve': 1, 'recommendation': 3, 'selection': 10, 'menu': 15, 'great': 70, 'prices': 10, 'getting': 8, 'angry': 1, 'want': 13, 'damn': 4, 'pho': 6, 'honeslty': 1, 'didnt': 13, 'taste': 13, 'fresh': 14, 'potatoes': 3, 'like': 46, 'rubber': 1, 'could': 16, 'tell': 6, 'made': 17, 'ahead': 1, 'time': 42, 'kept': 5, 'warmer': 1, 'fries': 9, 'touch': 2, 'service': 83, 'prompt': 1, 'would': 28, 'go': 43, 'back': 61, 'cashier': 2, 'no': 25, 'care': 3, 'ever': 28, 'say': 16, 'still': 11, 'ended': 2, 'wayyy': 1, 'overpriced': 8, 'tried': 7, 'cape': 1, 'cod': 1, 'ravoli': 1, 'chickenwith': 1, 'cranberrymmmm': 1, 'disgusted': 1, 'pretty': 19, 'sure': 8, 'human': 2, 'hair': 2, 'shocked': 1, 'signs': 1, 'indicate': 1, 'cash': 1, 'highly': 4, 'recommended': 3, 'waitress': 8, 'little': 10, 'slow': 11, 'worth': 10, 'let': 2, 'alone': 1, 'vegas': 21, 'burrittos': 1, 'blah': 1, 'food': 124, 'amazing': 23, 'also': 27, 'cute': 2, 'less': 1, 'interior': 1, 'beautiful': 3, 'performed': 1, 'thats': 2, 'rightthe': 1, 'red': 2, 'velvet': 1, 'cakeohhh': 1, 'stuff': 2, 'never': 26, 'brought': 3, 'salad': 15, 'asked': 5, 'hole': 1, 'wall': 3, 'mexican': 2, 'street': 1, 'tacos': 4, 'friendly': 26, 'staff': 19, 'took': 8, 'hour': 6, 'get': 19, 'tables': 5, 'restaurant': 25, 'luke': 1, 'warm': 6, 'sever': 1, 'running': 4, 'around': 8, 'totally': 3, 'overwhelmed': 2, 'worst': 14, 'salmon': 4, 'sashimi': 3, 'combos': 1, 'burger': 12, 'beer': 8, 'decent': 2, 'deal': 7, 'final': 1, 'blow': 1, 'found': 7, 'accident': 1, 'happier': 1, 'seems': 2, 'quick': 5, 'grab': 1, 'bite': 2, 'familiar': 2, 'pub': 1, 'yourself': 3, 'favor': 2, 'look': 4, 'elsewhere': 4, 'overall': 8, 'lot': 7, 'redeeming': 1, 'quality': 13, 'inexpensive': 2, 'ample': 1, 'portions': 5, 'poor': 6, 'waiter': 7, 'feel': 11, 'stupid': 1, 'every': 9, 'came': 20, 'table': 9, 'first': 17, 'visit': 4, 'hiro': 1, 'delight': 2, 'sucks': 3, 'shrimp': 6, 'tender': 6, 'moist': 3, 'enough': 12, 'drag': 1, 'establishment': 4, 'hard': 6, 'judge': 2, 'whether': 1, 'sides': 3, 'grossed': 2, 'melted': 1, 'styrofoam': 1, 'eat': 19, 'fear': 1, 'sick': 5, 'positive': 1, 'note': 2, 'server': 13, 'attentive': 7, 'provided': 1, 'frozen': 3, 'pucks': 1, 'disgust': 1, 'people': 9, 'behind': 2, 'register': 1, 'thing': 8, 'prime': 1, 'rib': 1, 'dessert': 5, 'section': 1, 'bad': 18, 'generic': 1, 'beef': 5, 'cooked': 7, 'right': 8, 'sandwich': 9, 'firehouse': 1, 'side': 7, 'greek': 3, 'dressing': 3, 'pita': 3, 'hummus': 3, 'refreshing': 1, 'ordered': 14, 'duck': 3, 'rare': 4, 'pink': 1, 'inside': 7, 'nice': 25, 'char': 2, 'outside': 5, 'us': 19, 'realized': 2, 'husband': 4, 'left': 6, 'sunglasses': 1, 'chow': 1, 'mein': 1, 'horrible': 6, 'attitudes': 2, 'towards': 2, 'customers': 2, 'talk': 5, 'one': 26, 'dont': 28, 'enjoy': 6, 'portion': 2, 'huge': 5, 'itfriendly': 1, 'servers': 5, 'wonderful': 7, 'imaginative': 1, 'heart': 4, 'attack': 2, 'grill': 2, 'downtown': 2, 'absolutely': 8, 'flatlined': 1, 'excuse': 2, 'much': 18, 'seafood': 5, 'strings': 1, 'pasta': 5, 'bottom': 1, 'amount': 3, 'sauce': 10, 'power': 1, 'scallop': 2, 'perfectly': 3, 'ripped': 2, 'banana': 1, 'petrified': 1, 'tasteless': 5, 'least': 4, 'think': 16, 'refill': 2, 'water': 3, 'struggle': 1, 'wave': 1, 'minutes': 19, 'receives': 1, 'stars': 15, 'appetizers': 2, 'cocktails': 1, 'handmade': 1, 'delicious': 23, 'wed': 1, 'definitely': 18, 'glad': 2, 'give': 9, 'military': 1, 'discount': 1, 'always': 15, 'dos': 1, 'gringos': 1, 'updatewent': 1, 'second': 3, 'got': 18, 'apparently': 1, 'heard': 2, 'salt': 3, 'batter': 2, 'fish': 5, 'chewy': 3, 'way': 14, 'finish': 2, 'included': 1, 'tastings': 1, 'drinks': 4, 'jeff': 1, 'went': 12, 'beyond': 2, 'expected': 3, 'really': 36, 'rice': 4, 'meh': 2, 'min': 3, 'milkshake': 1, 'nothing': 7, 'chocolate': 1, 'milk': 1, 'guess': 3, 'known': 2, 'suck': 2, 'excalibur': 1, 'use': 2, 'common': 1, 'sense': 1, 'dish': 8, 'quite': 8, 'appalling': 1, 'value': 2, 'well': 18, 'times': 13, 'customer': 5, 'sweet': 5, 'potato': 6, 'seasoned': 2, 'today': 4, 'ive': 20, 'lunch': 9, 'buffet': 11, 'cheated': 1, 'wasting': 2, 'eating': 7, 'opportunity': 2, 'going': 18, 'company': 2, 'coming': 10, 'experiencing': 1, 'underwhelming': 2, 'relationship': 1, 'parties': 1, 'cant': 11, 'wait': 14, 'person': 2, 'ask': 4, 'break': 2, 'walked': 3, 'smelled': 1, 'old': 5, 'grease': 2, 'trap': 1, 'others': 2, 'turkey': 1, 'roast': 2, 'bland': 11, 'pan': 1, 'cakes': 1, 'everyone': 4, 'raving': 1, 'sugary': 2, 'disaster': 1, 'tailored': 1, 'palate': 1, 'six': 2, 'year': 2, 'love': 19, 'spring': 1, 'rolls': 3, 'oh': 3, 'yummy': 4, 'try': 8, 'meat': 9, 'ratio': 1, 'chicken': 16, 'tenders': 1, 'unsatisfying': 1, 'omelets': 1, 'die': 2, 'everything': 10, 'summary': 1, 'largely': 1, 'disappointing': 5, 'dining': 8, 'experience': 20, 'sexy': 1, 'party': 3, 'mouth': 3, 'youre': 3, 'outrageously': 1, 'flirting': 1, 'hottest': 1, 'rock': 1, 'casino': 1, 'step': 1, 'forward': 1, 'best': 30, 'breakfast': 9, 'bye': 2, 'tip': 3, 'lady': 2, 'arrived': 3, 'quickly': 3, 'cafe': 3, 'serves': 2, 'fantastic': 12, 'wife': 3, 'loves': 1, 'roasted': 2, 'garlic': 2, 'bone': 1, 'marrow': 2, 'added': 2, 'extra': 2, 'meal': 11, 'another': 10, 'helpful': 4, 'bloddy': 1, 'marys': 1, 'town': 7, 'price': 7, 'cannot': 2, 'beat': 4, 'mussels': 1, 'wine': 4, 'reduction': 1, 'dishes': 9, 'better': 16, 'buffets': 1, 'tigerlilly': 1, 'afternoon': 1, 'bartender': 2, 'personable': 1, 'ambience': 3, 'music': 3, 'playing': 2, 'next': 11, 'trip': 4, 'sooooo': 1, 'real': 5, 'sushi': 13, 'lovers': 2, 'lets': 1, 'honest': 3, 'yama': 1, 'passed': 2, 'ordering': 1, 'arriving': 1, 'wasnt': 13, 'busy': 3, 'thai': 5, 'spicy': 8, 'check': 6, 'gross': 2, 'atmosphere': 11, 'kind': 4, 'mess': 1, 'steak': 14, 'although': 3, 'liked': 3, 'sound': 1, 'actual': 1, 'bit': 8, 'know': 11, 'managed': 1, 'served': 6, 'blandest': 1, 'eaten': 5, 'preparing': 2, 'indian': 2, 'cuisine': 1, 'boot': 2, 'worries': 1, 'fine': 3, 'guys': 1, 'steaks': 4, 'loving': 1, 'son': 1, 'places': 5, 'said': 8, 'hes': 1, 'thought': 5, 'youd': 2, 'venture': 1, 'away': 5, 'hit': 5, 'spot': 8, 'night': 12, 'host': 1, 'lack': 1, 'word': 2, 'bitches': 1, 'liking': 1, 'number': 1, 'reasons': 1, 'waste': 5, 'reviewing': 1, 'ill': 7, 'leave': 4, 'phenomenal': 1, 'ambiance': 7, 'wouldnt': 3, 'return': 5, 'venturing': 1, 'strip': 3, 'pork': 4, 'belly': 2, 'im': 21, 'mediocre': 6, 'penne': 1, 'vodka': 1, 'excellent': 10, 'including': 1, 'massive': 1, 'meatloaf': 1, 'crispy': 1, 'wrap': 2, 'delish': 3, 'tuna': 2, 'melt': 3, 'burgers': 4, 'management': 6, 'rude': 8, 'nyc': 1, 'bagels': 2, 'selections': 2, 'cream': 4, 'cheese': 3, 'lox': 1, 'capers': 1, 'even': 19, 'subway': 3, 'fact': 4, 'come': 11, 'meet': 1, 'expectations': 1, 'seriously': 7, 'solid': 1, 'bars': 2, 'extremely': 5, 'many': 9, 'restaurants': 3, 'dine': 2, 'weekend': 1, 'drink': 4, 'empty': 3, 'suggestions': 1, 'rarely': 2, 'checked': 3, 'ate': 3, 'disappointed': 19, 'curry': 2, 'bamboo': 1, 'shoots': 1, 'blanket': 1, 'moz': 1, 'top': 1, 'done': 6, 'cover': 1, 'subpar': 2, 'bathrooms': 2, 'clean': 9, 'decorated': 2, 'changing': 1, 'considering': 4, 'pace': 2, 'thumbs': 4, 'watched': 3, 'pay': 4, 'attention': 1, 'ignore': 1, 'fianc': 1, 'middle': 1, 'day': 9, 'greeted': 2, 'seated': 5, 'mandalay': 1, 'bay': 4, 'waited': 10, 'forty': 1, 'five': 1, 'vain': 1, 'crostini': 1, 'stale': 3, 'highlights': 1, 'nigiri': 1, 'joint': 2, 'different': 3, 'cut': 2, 'piece': 4, 'flavored': 1, 'voodoo': 1, 'id': 5, 'since': 8, 'gluten': 1, 'free': 1, 'several': 3, 'years': 3, 'ago': 3, 'unfortunately': 4, 'must': 6, 'bakery': 2, 'leftover': 1, 'relocated': 1, 'impressed': 8, 'immediately': 3, 'diverse': 1, 'reasonably': 2, 'priced': 2, 'avoid': 5, 'cost': 1, 'full': 5, 'handsdown': 1, 'phoenix': 4, 'metro': 1, 'area': 7, 'looking': 2, 'treated': 3, 'bacon': 5, 'hella': 1, 'salty': 1, 'spinach': 1, 'avocado': 1, 'ingredients': 1, 'sad': 4, 'literally': 3, 'zero': 5, 'used': 3, 'menus': 1, 'handed': 1, 'ladies': 2, 'listed': 1, 'waitresses': 1, 'lordy': 1, 'khao': 1, 'soi': 1, 'missed': 1, 'terrific': 1, 'thrilled': 1, 'accommodations': 1, 'vegetarian': 3, 'daughter': 1, 'perhaps': 1, 'caught': 1, 'judging': 1, 'reviews': 3, 'inspired': 1, 'leaves': 1, 'desired': 1, 'modern': 1, 'hip': 1, 'maintaining': 1, 'coziness': 1, 'weekly': 1, 'haunt': 1, 'sat': 5, 'asking': 1, 'take': 8, 'order': 11, 'flavor': 13, 'overcooked': 2, 'charcoal': 2, 'decided': 2, 'send': 1, 'looked': 2, 'verge': 1, 'dressed': 1, 'rudely': 1, 'probably': 10, 'dirt': 2, 'hits': 1, 'something': 4, 'healthy': 3, 'lacking': 3, 'quantity': 1, 'lemon': 1, 'raspberry': 1, 'ice': 5, 'cocktail': 1, 'incredible': 4, 'sucked': 4, 'imagined': 1, 'interesting': 3, 'decor': 3, 'crepe': 1, 'station': 2, 'hot': 9, 'bread': 5, 'butter': 3, 'home': 5, 'chips': 7, 'bits': 1, 'topvery': 1, 'original': 1, 'watch': 2, 'egg': 3, 'gyros': 2, 'missing': 1, 'wings': 4, 'feeling': 2, 'satisfied': 1, 'joeys': 1, 'voted': 1, 'dog': 3, 'valley': 2, 'readers': 1, 'magazine': 1, 'bowl': 2, 'live': 4, 'fridays': 1, 'blows': 1, 'insulted': 3, 'felt': 8, 'disrespected': 2, 'drive': 4, 'things': 5, 'exceeding': 1, 'hope': 3, 'dreamed': 1, 'serivce': 1, 'help': 1, 'brunch': 3, 'inviting': 1, 'lived': 1, 'last': 6, 'stepped': 1, 'foot': 1, 'mixed': 1, 'mushrooms': 1, 'yukon': 1, 'gold': 2, 'puree': 2, 'white': 3, 'corn': 1, 'beateous': 1, 'bug': 2, 'showed': 1, 'given': 2, 'climbing': 1, 'kitchen': 1, 'waiting': 5, 'soon': 9, 'friend': 2, 'tartar': 1, 'wont': 19, 'though': 4, 'soggy': 3, 'jamaican': 1, 'mojitos': 1, 'small': 6, 'rich': 1, 'accordingly': 1, 'shower': 2, 'rinse': 1, 'unless': 3, 'mind': 2, 'nude': 1, 'see': 6, 'lobster': 3, 'bisque': 2, 'bussell': 1, 'sprouts': 1, 'risotto': 1, 'filet': 2, 'needed': 2, 'pepperand': 1, 'course': 3, 'none': 3, 'hopefully': 1, 'bodes': 1, 'business': 4, 'someone': 4, 'cook': 2, 'either': 6, 'cold': 9, 'wrapped': 1, 'dates': 1, 'unbelievable': 1, 'bargain': 1, 'folks': 4, 'otto': 1, 'make': 8, 'welcome': 1, 'special': 6, 'mains': 1, 'uninspired': 1, 'muststop': 1, 'whenever': 1, 'isnt': 3, 'dealing': 2, 'worlds': 1, 'worstannoying': 1, 'drunk': 1, 'fun': 4, 'chef': 3, 'double': 2, 'cheeseburger': 2, 'single': 2, 'patty': 1, 'falling': 1, 'apart': 1, 'picture': 1, 'uploaded': 1, 'yeah': 1, 'couple': 3, 'sporting': 1, 'events': 1, 'walls': 1, 'covered': 1, 'tvs': 1, 'possible': 4, 'theyd': 1, 'descriptions': 1, 'yum': 2, 'eel': 1, 'yet': 3, 'mayowell': 1, 'sauces': 1, 'hardest': 1, 'decision': 1, 'honestly': 2, 'ms': 1, 'supposed': 1, 'rolled': 1, 'eyes': 1, 'stayed': 2, 'providing': 1, 'money': 6, 'flavourful': 1, 'almost': 2, 'building': 2, 'freezing': 1, 'reviewer': 1, 'couldnt': 3, 'close': 4, 'point': 3, 'flavorful': 3, 'delights': 1, 'ayce': 1, 'lighting': 1, 'dark': 2, 'set': 2, 'mood': 1, 'based': 1, 'received': 3, 'effort': 1, 'show': 1, 'gratitude': 1, 'owners': 5, 'privileged': 1, 'workingeating': 1, 'creamy': 2, 'parents': 1, 'similar': 2, 'complaints': 2, 'silently': 1, 'pizza': 15, 'peanut': 1, 'fast': 5, 'wouldve': 1, 'godfathers': 1, 'tough': 1, 'short': 1, 'sticks': 2, 'recall': 1, 'charged': 1, 'tap': 2, 'exquisite': 1, 'generous': 3, 'plus': 2, 'bucks': 2, 'par': 2, 'thus': 1, 'far': 7, 'visited': 1, 'twice': 6, 'self': 1, 'proclaimed': 1, 'coffee': 2, 'wildly': 1, 'veggitarian': 1, 'platter': 1, 'world': 2, 'wrong': 5, 'madison': 1, 'ironman': 1, 'chefs': 1, 'job': 4, 'dedicated': 1, 'boba': 2, 'tea': 4, 'spots': 1, 'jenni': 1, 'patio': 3, 'outstanding': 3, 'goat': 1, 'taco': 2, 'skimp': 1, 'mac': 1, 'bachi': 2, 'friends': 7, 'stinks': 1, 'recommend': 11, 'salads': 2, 'burned': 1, 'saganaki': 1, 'hate': 2, 'disagree': 1, 'fellow': 1, 'yelpers': 1, 'hours': 2, 'pizzas': 3, 'later': 2, 'neighborhood': 2, 'convenient': 2, 'location': 4, 'pulled': 3, 'soooo': 2, 'incredibly': 1, 'prepared': 1, 'gave': 4, 'star': 3, 'rating': 1, 'please': 3, 'third': 2, 'writing': 1, 'review': 3, 'stay': 3, 'stir': 2, 'fried': 5, 'noodles': 1, 'chip': 1, 'count': 1, 'box': 1, 'boring': 1, 'servicecheck': 1, 'greedy': 1, 'corporation': 1, 'dime': 1, 'atrocious': 1, 'summer': 2, 'charming': 1, 'outdoor': 1, 'delightful': 2, 'expect': 5, 'toasted': 2, 'english': 1, 'muffin': 1, 'untoasted': 1, 'high': 3, 'house': 3, 'bus': 1, 'boy': 2, 'hand': 2, 'basically': 2, 'figured': 1, 'joke': 2, 'making': 1, 'publicly': 1, 'loudly': 1, 'bbq': 1, 'lighter': 1, 'fare': 2, 'reasonable': 5, 'pricing': 2, 'public': 1, 'ways': 1, 'two': 8, 'happy': 8, 'inhouse': 1, 'downside': 1, 'without': 2, 'doubt': 2, 'exceptional': 1, 'months': 1, 'returned': 1, 'favorite': 3, 'shawarrrrrrma': 1, 'black': 2, 'eyed': 1, 'peas': 1, 'unreal': 1, 'serve': 2, 'vinaigrette': 1, 'seen': 2, 'especially': 3, 'mom': 2, 'bites': 2, 'pleasant': 3, 'honor': 1, 'hut': 1, 'coupons': 1, 'truly': 1, 'unbelievably': 1, 'pleased': 3, 'dirty': 4, 'seat': 1, 'covers': 1, 'replenished': 1, 'plain': 1, 'yucky': 1, 'standard': 1, 'omg': 2, 'delicioso': 1, 'authentic': 6, 'spaghetti': 1, 'whatsoever': 1, 'vegetables': 4, 'feels': 2, 'driving': 1, 'tucson': 1, 'vegasthere': 1, 'chipotle': 1, 'classywarm': 1, 'succulent': 1, 'baseball': 1, 'brick': 2, 'oven': 2, 'app': 1, 'multiple': 2, 'ten': 2, 'finally': 2, 'terrible': 10, 'equally': 3, 'shouldnt': 1, 'pancakes': 2, 'eggs': 2, 'genuinely': 1, 'enthusiastic': 1, 'treat': 2, 'sadly': 1, 'gordon': 1, 'ramseys': 1, 'shall': 1, 'sharply': 1, 'evening': 2, 'life': 2, 'bathroom': 3, 'door': 3, 'offered': 1, 'tasted': 8, 'cool': 3, 'turn': 1, 'else': 3, 'buying': 1, 'handling': 1, 'large': 4, 'rowdy': 1, 'find': 3, 'despicable': 1, 'soup': 4, 'lukewarm': 2, 'craving': 1, 'deserves': 3, 'stomach': 3, 'ache': 1, 'rest': 1, 'dropped': 1, 'ball': 1, 'space': 1, 'tiny': 1, 'elegantly': 1, 'comfortable': 2, 'customize': 1, 'usual': 1, 'eggplant': 2, 'green': 3, 'bean': 1, 'fry': 2, 'beans': 3, 'outta': 1, 'part': 2, 'inconsiderate': 1, 'says': 1, 'hi': 1, 'dinners': 1, 'outshining': 1, 'halibut': 1, 'told': 3, 'happened': 2, 'car': 2, 'breaks': 1, 'front': 2, 'starving': 1, 'disgrace': 1, 'def': 1, 'ethic': 1, 'continue': 1, 'andddd': 1, 'date': 1, 'anyone': 2, 'past': 1, 'stuffed': 2, 'located': 1, 'crystals': 1, 'shopping': 1, 'mall': 2, 'aria': 1, 'summarize': 1, 'nay': 1, 'transcendant': 1, 'brings': 1, 'joy': 1, 'memory': 1, 'pneumatic': 1, 'condiment': 1, 'dispenser': 1, 'ians': 1, 'kids': 3, 'lots': 2, 'options': 4, 'kiddos': 1, 'perfect': 10, 'family': 7, 'perfection': 2, 'impeccable': 2, 'simply': 2, 'disappointment': 4, 'bouchon': 1, 'accountant': 1, 'screwed': 1, 'reminds': 1, 'pop': 2, 'shops': 1, 'san': 1, 'francisco': 1, 'buldogis': 1, 'gourmet': 1, 'frustrated': 1, 'petty': 1, 'total': 3, 'iced': 1, 'hungry': 1, 'assure': 2, 'trying': 2, 'teeth': 1, 'sore': 1, 'completely': 2, 'enjoyed': 5, 'become': 2, 'regular': 3, 'needs': 4, 'professional': 2, 'end': 2, 'dinner': 6, 'companions': 1, 'meeverything': 1, 'ground': 1, 'smeared': 1, 'beensteppedinandtrackedeverywhere': 1, 'pile': 1, 'bird': 1, 'poop': 1, 'furthermore': 1, 'operation': 1, 'website': 1, 'weve': 2, 'mistake': 2, 'expertconnisseur': 1, 'topic': 1, 'jerk': 1, 'strike': 1, 'wants': 1, 'rushed': 1, 'nicest': 2, 'across': 1, 'biscuits': 2, 'appetizer': 1, 'absolutley': 1, 'awkward': 1, 'lb': 1, 'cow': 2, 'ths': 1, 'gristle': 1, 'fat': 1, 'steiners': 1, 'bar': 7, 'dollars': 1, 'anyway': 2, 'fs': 1, 'breakfastlunch': 1, 'week': 2, 'mention': 1, 'combination': 2, 'pears': 1, 'almonds': 1, 'big': 3, 'winner': 1, 'spicier': 1, 'prefer': 1, 'ribeye': 1, 'mesquite': 1, 'anytime': 5, 'gooodd': 1, 'connoisseur': 1, 'difference': 1, 'certainly': 1, 'contained': 1, 'driest': 2, 'mouthful': 1, 'enjoyable': 1, 'relaxed': 1, 'venue': 1, 'couples': 1, 'groups': 1, 'etc': 1, 'nargile': 1, 'tater': 1, 'tots': 2, 'southwest': 1, 'paid': 2, 'vanilla': 1, 'smooth': 1, 'profiterole': 1, 'choux': 1, 'pastry': 1, 'az': 1, 'new': 5, 'manager': 4, 'carlys': 1, 'due': 1, 'acknowledged': 2, 'foodand': 1, 'forgetting': 1, 'margaritas': 2, 'disappoint': 2, 'ventilation': 1, 'upgrading': 1, 'letdown': 1, 'rather': 3, 'camelback': 1, 'flower': 2, 'shop': 1, 'cartel': 1, 'trimmed': 1, 'group': 2, 'claimed': 1, 'handled': 1, 'beautifully': 1, 'bill': 3, 'bring': 5, 'jewel': 1, 'las': 1, 'exactly': 1, 'hoping': 1, 'nearly': 1, 'living': 1, 'limited': 1, 'boiled': 1, 'crab': 2, 'legs': 2, 'toro': 1, 'tartare': 1, 'cavier': 1, 'extraordinary': 1, 'thinly': 1, 'sliced': 2, 'wagyu': 1, 'truffle': 1, 'long': 5, 'attached': 1, 'gas': 1, 'sign': 1, 'awesome': 12, 'decide': 1, 'worse': 3, 'humiliated': 1, 'worker': 1, 'mebunch': 1, 'name': 1, 'callings': 1, 'conclusion': 1, 'filling': 2, 'meals': 3, 'daily': 1, 'specials': 1, 'tragedy': 1, 'struck': 1, 'pancake': 1, 'crawfish': 1, 'monster': 1, 'funny': 1, 'moms': 1, 'multigrain': 1, 'pumpkin': 1, 'pecan': 1, 'fluffy': 1, 'airline': 1, 'noca': 1, 'gyro': 1, 'lettuce': 1, 'thoroughly': 1, 'homemade': 3, 'pastas': 1, 'thin': 4, 'cheesecurds': 1, 'typical': 1, 'glance': 1, 'lovely': 2, 'finger': 1, 'item': 1, 'beauty': 1, 'havent': 1, 'gone': 3, 'greasy': 1, 'unhealthy': 1, 'might': 1, 'similarly': 1, 'delivery': 1, 'man': 1, 'apology': 1, 'expensive': 1, 'need': 3, 'pack': 1, 'togo': 1, 'tiramisu': 1, 'cannoli': 1, 'upway': 1, 'sun': 1, 'whole': 2, 'bunch': 1, 'meats': 1, 'choose': 2, 'experienced': 1, 'frenchman': 1, 'desserts': 3, 'martini': 1, 'opinion': 1, 'entrees': 2, 'gc': 1, 'sample': 1, 'thirty': 1, 'vacant': 1, 'yellowtail': 1, 'carpaccio': 1, 'strangers': 1, 'actually': 2, 'hello': 1, 'strange': 1, 'boyfriend': 3, 'recent': 2, 'donut': 1, 'saving': 1, 'room': 3, 'maybe': 3, 'disgraceful': 1, 'however': 2, 'particular': 1, 'suffers': 1, 'tapas': 2, 'vinegrette': 2, 'baby': 2, 'greens': 1, 'hearts': 1, 'palm': 1, 'disgusting': 2, 'believe': 3, 'stop': 2, 'hankering': 1, 'forth': 1, 'helped': 2, 'consider': 1, 'theft': 1, 'eew': 1, 'complete': 1, 'overhaul': 1, 'recently': 2, 'witnessed': 1, 'guests': 1, 'regularly': 1, 'super': 7, 'swung': 1, 'deeply': 1, 'efficient': 1, 'fan': 2, 'sucker': 1, 'dry': 4, 'rated': 2, 'setting': 3, 'cheap': 2, 'olives': 1, 'perpared': 1, 'presentation': 2, 'giant': 1, 'slices': 1, 'toast': 1, 'lightly': 1, 'dusted': 1, 'powdered': 1, 'sugar': 1, 'play': 1, 'fo': 1, 'accomodate': 1, 'veganveggie': 1, 'crumby': 1, 'pale': 1, 'color': 2, 'instead': 1, 'croutons': 1, 'itll': 1, 'trips': 1, 'crema': 1, 'caf': 1, 'expanded': 1, 'miss': 1, 'wish': 1, 'philadelphia': 1, 'sitting': 2, 'fairly': 2, 'crisp': 1, 'satisfying': 2, 'wanted': 3, 'north': 1, 'scottsdale': 1, 'quit': 1, 'soooooo': 1, 'freaking': 1, 'papers': 1, 'reheated': 1, 'ok': 3, 'wedges': 1, 'sorry': 1, 'absolute': 1, 'tongue': 1, 'cheek': 1, 'bloody': 1, 'mary': 1, 'despite': 1, 'rate': 1, 'businesses': 1, 'grilled': 2, 'yellow': 1, 'saffron': 1, 'seasoning': 1, 'thru': 1, 'means': 2, 'half': 3, 'somehow': 1, 'luck': 1, 'noncustomer': 1, 'focused': 2, 'grandmother': 1, 'list': 3, 'ignored': 1, 'hostess': 1, 'boys': 1, 'four': 1, 'guy': 2, 'blue': 1, 'shirt': 1, 'vibe': 3, 'letting': 1, 'drastically': 1, 'highquality': 1, 'caesar': 1, 'promptly': 1, 'madhouse': 1, 'proven': 1, 'dead': 1, 'greatest': 1, 'moods': 1, 'macarons': 1, 'insanely': 1, 'informative': 1, 'werent': 1, 'somewhat': 1, 'edible': 3, 'promise': 2, 'fails': 1, 'deliver': 1, 'average': 4, 'plater': 1, 'relax': 1, 'sitdown': 1, 'together': 1, 'poorly': 1, 'constructed': 1, 'seating': 3, 'hands': 2, 'italian': 2, 'screams': 1, 'legit': 2, 'booksomethats': 1, 'duo': 1, 'violinists': 1, 'songs': 1, 'requested': 1, 'personally': 1, 'baklava': 1, 'falafels': 1, 'baba': 1, 'ganoush': 1, 'staying': 2, 'mgm': 1, 'courteous': 1, 'eclectic': 1, 'onion': 1, 'rings': 1, 'pictures': 1, 'owner': 2, 'work': 2, 'nobu': 1, 'google': 1, 'imagine': 1, 'smashburger': 1, 'lover': 1, 'gem': 1, 'plantains': 1, 'giving': 1, 'spends': 1, 'talking': 1, 'panna': 1, 'cotta': 1, 'fail': 2, 'flavors': 1, 'slaw': 1, 'drenched': 1, 'mayo': 1, 'piano': 1, 'soundtrack': 1, 'amazingrge': 1, 'fillet': 1, 'relleno': 1, 'plate': 2, 'sergeant': 1, 'pepper': 1, 'auju': 1, 'hawaiian': 1, 'breeze': 1, 'mango': 1, 'magic': 1, 'pineapple': 1, 'smoothies': 1, 'theyre': 1, 'mortified': 1, 'needless': 2, 'anyways': 1, 'dripping': 1, 'mostly': 1, 'serving': 2, 'hospitality': 1, 'industry': 1, 'paradise': 1, 'refrained': 1, 'recommending': 1, 'cibo': 1, 'longer': 2, 'orders': 2, 'mean': 1, 'famous': 1, 'mouths': 1, 'bellies': 1, 'reading': 1, 'reminded': 1, 'pros': 1, 'simple': 2, 'dough': 1, 'tonight': 1, 'elk': 1, 'specialand': 1, 'hooked': 1, 'classics': 1, 'sorely': 1, 'quaint': 1, 'deliciously': 1, 'compliments': 1, 'thanks': 1, 'dylan': 1, 'tummy': 1, 'gratuity': 1, 'larger': 1, 'fly': 2, 'apple': 1, 'juice': 1, 'han': 1, 'nan': 1, 'barely': 5, 'ryans': 1, 'edinburgh': 1, 'revisiting': 1, 'chinese': 2, 'naan': 1, 'pine': 1, 'nut': 1, 'touched': 1, 'airport': 1, 'speedy': 1, 'calligraphy': 1, 'paper': 2, 'anything': 2, 'complain': 2, 'stood': 1, 'begin': 1, 'awkwardly': 1, 'opened': 1, 'guest': 1, 'extensive': 1, 'provides': 1, 'wide': 1, 'array': 1, 'inflate': 1, 'smaller': 1, 'grow': 1, 'rapidly': 1, 'lil': 1, 'fuzzy': 1, 'fabulous': 1, 'wontons': 1, 'thick': 1, 'level': 1, 'spice': 1, 'overwhelm': 1, 'main': 1, 'crowd': 2, 'older': 1, 'mid': 2, 'arepas': 1, 'jalapeno': 1, 'shoe': 1, 'leather': 1, 'definately': 2, 'block': 1, 'lowkey': 1, 'nonfancy': 1, 'affordable': 1, 'sour': 1, 'soups': 1, 'sunday': 1, 'traditional': 1, 'hunan': 1, 'style': 3, 'bother': 2, 'flair': 1, 'bartenders': 1, 'nutshell': 1, 'restaraunt': 1, 'smells': 1, 'market': 1, 'sewer': 1, 'girlfriends': 1, 'veal': 1, 'satifying': 1, 'join': 1, 'club': 1, 'offers': 2, 'via': 1, 'email': 1, 'likes': 1, 'case': 1, 'colder': 1, 'flavorless': 2, 'describing': 1, 'tepid': 1, 'chains': 1, 'easily': 1, 'nachos': 2, 'words': 1, 'crazy': 2, 'crowds': 1, 'juries': 1, 'lawyers': 1, 'court': 1, 'arrives': 1, 'paying': 1, 'looks': 1, 'wienerschnitzel': 1, 'idea': 1, 'classic': 1, 'maine': 1, 'roll': 1, 'brother': 1, 'law': 1, 'works': 1, 'hereas': 1, 'tribute': 2, 'event': 1, 'held': 1, 'salsa': 3, 'youll': 1, 'pissd': 1, 'surprise': 1, 'goldencrispy': 1, 'hopes': 1, 'fell': 2, 'flat': 2, 'bruschetta': 1, 'devine': 1, 'employee': 1, 'lastly': 1, 'mozzarella': 1, 'negligent': 1, 'unwelcome': 1, 'suggest': 1, 'consistent': 1, 'packed': 1, 'seasonal': 1, 'fruit': 1, 'peach': 1, 'officially': 1, 'blown': 1, 'put': 1, 'plastic': 1, 'containers': 1, 'opposed': 1, 'cramming': 1, 'takeout': 1, 'boxes': 1, 'crpe': 1, 'delicate': 1, 'awful': 3, 'fair': 1, 'kabuki': 1, 'overhip': 1, 'underservices': 1, 'maria': 1, 'surprised': 1, 'article': 1, 'read': 1, 'spices': 1, 'fucking': 1, 'caballeros': 1, 'head': 1, 'oysters': 1, 'round': 1, 'disbelief': 1, 'qualified': 1, 'version': 1, 'foods': 1, 'low': 1, 'tolerance': 1, 'polite': 1, 'wash': 1, 'otherwise': 1, 'biscuit': 1, 'heat': 2, 'hated': 1, 'coconut': 1, 'fella': 1, 'huevos': 1, 'rancheros': 1, 'appealing': 1, 'wines': 1, 'pricey': 1, 'foodservice': 1, 'tempi': 1, 'prepare': 1, 'bare': 1, 'gloveseverything': 1, 'deep': 1, 'oil': 1, 'pleasure': 1, 'plethora': 1, 'sandwiches': 1, 'gets': 1, 'seal': 1, 'approval': 1, 'light': 1, 'college': 1, 'cooking': 1, 'class': 1, 'started': 2, 'editing': 1, 'besides': 1, 'costcos': 1, 'highlighted': 1, 'unique': 1, 'weird': 1, 'hardly': 1, 'grocery': 1, 'store': 1, 'ownerchef': 1, 'japanese': 1, 'dude': 1, 'arent': 2, 'doughy': 1, 'inch': 1, 'wire': 1, 'albondigas': 1, 'tomato': 1, 'meatballs': 1, 'three': 2, 'occasions': 1, 'medium': 1, 'bloodiest': 1, 'refused': 1, 'anymore': 1, 'killer': 1, 'chai': 1, 'latte': 1, 'allergy': 1, 'warnings': 1, 'clue': 1, 'contain': 1, 'peanuts': 1, 'mediterranean': 1, 'rotating': 1, 'beers': 1, 'highlight': 1, 'concern': 1, 'mellow': 1, 'mushroom': 1, 'strawberry': 1, 'unprofessional': 1, 'loyal': 1, 'patron': 1, 'spend': 2, 'occasional': 1, 'pats': 1, 'mmmm': 1, 'bellagio': 1, 'anticipated': 1, 'weak': 1, 'correct': 1, 'bought': 1, 'sals': 1, 'returning': 1, 'fav': 1, 'unexperienced': 1, 'employees': 1, 'chickens': 1, 'heads': 1, 'call': 1, 'steakhouse': 1, 'properly': 1, 'understand': 1, 'concept': 1, 'guacamole': 1, 'pured': 1, 'postinos': 1, 'poisoning': 1, 'batch': 1, 'thinking': 1, 'yay': 1, 'hilarious': 1, 'christmas': 1, 'eve': 1, 'remember': 1, 'biggest': 1, 'entire': 1, 'caring': 1, 'teamwork': 1, 'degree': 1, 'ri': 1, 'calamari': 1, 'fondue': 1, 'lost': 2, 'forever': 1, 'ones': 1, 'scene': 1, 'itdefinitely': 1, 'dennys': 1, 'downright': 1, 'waaaaaayyyyyyyyyy': 1, 'saying': 1, 'lacked': 3, 'sangria': 1, 'glass': 1, 'ridiculous': 1, 'brisket': 1, 'neat': 1, 'trippy': 1, 'hurry': 1, 'reservation': 1, 'stretch': 1, 'imagination': 1, 'cashew': 1, 'undercooked': 2, 'chipolte': 1, 'ranch': 1, 'dipping': 1, 'sause': 1, 'seemed': 2, 'watered': 1, 'workers': 1, 'douchey': 1, 'indoor': 1, 'garden': 1, 'con': 1, 'spotty': 1, 'neither': 1, 'ensued': 1, 'apologize': 1, 'reason': 1, 'fill': 1, 'binge': 1, 'drinking': 1, 'carbs': 1, 'insults': 1, 'profound': 1, 'deuchebaggery': 1, 'smoke': 1, 'solidify': 1, 'combo': 1, 'ala': 1, 'cart': 1, 'blame': 1, 'placed': 1, 'rave': 1, 'herewhat': 1, 'del': 1, 'avoided': 1, 'hamburger': 1, 'hell': 1, 'gotten': 1, 'services': 1, 'yaall': 1, 'shots': 1, 'fireball': 1, 'disapppointment': 1, 'correction': 1, 'heimer': 1, 'prettyoff': 1, 'putting': 1, 'cause': 1, 'owned': 1, 'vomited': 1, 'circumstances': 1, 'tops': 1, 'brownish': 1, 'obviously': 1, 'movies': 1, 'ha': 1, 'flop': 1, 'problem': 1, 'charge': 1, 'bigger': 1, 'sub': 1, 'unwrapped': 1, 'mile': 1, 'brushfire': 1, 'impressive': 1, 'hasnt': 1, 'closed': 1, 'mirage': 1, 'refried': 1, 'dried': 1, 'crusty': 1, 'caterpillar': 1, 'appetite': 1, 'instantly': 1, 'ninja': 1, 'hadnt': 1, 'wasted': 1, 'poured': 1, 'wound': 1, 'drawing': 1}\n"
          ]
        },
        {
          "output_type": "execute_result",
          "data": {
            "text/plain": [
              "1941"
            ]
          },
          "metadata": {},
          "execution_count": 38
        }
      ]
    },
    {
      "cell_type": "markdown",
      "source": [
        "*   **Comentarios**\n",
        "\n",
        "Incluye finalmente tus comentarios de la actividad."
      ],
      "metadata": {
        "id": "NDbKkuxRbLoX"
      }
    },
    {
      "cell_type": "markdown",
      "source": [
        "<< incluye aquí tus comentarios >>"
      ],
      "metadata": {
        "id": "o7fzbvqVbUGr"
      }
    },
    {
      "cell_type": "markdown",
      "source": [
        "##**Fin de la Actividad de la semana 2.**"
      ],
      "metadata": {
        "id": "PHaKw_6Ldbaf"
      }
    }
  ]
}