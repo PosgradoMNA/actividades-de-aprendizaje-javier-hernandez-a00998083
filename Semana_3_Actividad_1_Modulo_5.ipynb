{
  "nbformat": 4,
  "nbformat_minor": 0,
  "metadata": {
    "colab": {
      "provenance": [],
      "collapsed_sections": [],
      "authorship_tag": "ABX9TyP1aKseR9ykb7ZdvtFoIZvM",
      "include_colab_link": true
    },
    "kernelspec": {
      "name": "python3",
      "display_name": "Python 3"
    },
    "language_info": {
      "name": "python"
    }
  },
  "cells": [
    {
      "cell_type": "markdown",
      "metadata": {
        "id": "view-in-github",
        "colab_type": "text"
      },
      "source": [
        "<a href=\"https://colab.research.google.com/github/PosgradoMNA/actividades-de-aprendizaje-javier-hernandez-a00998083/blob/main/Semana_3_Actividad_1_Modulo_5.ipynb\" target=\"_parent\"><img src=\"https://colab.research.google.com/assets/colab-badge.svg\" alt=\"Open In Colab\"/></a>"
      ]
    },
    {
      "cell_type": "code",
      "execution_count": null,
      "metadata": {
        "id": "R5MrRDl49jRS"
      },
      "outputs": [],
      "source": []
    },
    {
      "cell_type": "markdown",
      "source": [
        "Nombre: Francisco Javier Hernandez Camarillo\n",
        "\n",
        "Matricula: 00998083\n",
        "\n",
        "Modulo_5 IBM\n",
        "\n"
      ],
      "metadata": {
        "id": "rx8JN24c9mP2"
      }
    },
    {
      "cell_type": "markdown",
      "source": [
        "Learning objectives:\n",
        "\n",
        "* Explain the use of the HTTP protocol using the Requests Library method\n",
        "* Describe how the URL Request Response HTTP protocol works\n",
        "* Learn to apply simple, open-source APIs\n",
        "* Perform basic webscraping using Python\n",
        "* Work with different file formats using Python\n",
        "* Explain the difference between APIs and REST APIs\n",
        "* Summarize how APIs receive and send information\n"
      ],
      "metadata": {
        "id": "F48MpIo3-XXz"
      }
    },
    {
      "cell_type": "markdown",
      "source": [
        "Numpy 1D Arrays\n",
        "\n",
        "numpy is a library for scientific comnputing.\n",
        "numpy is the basis for pandas\n",
        "\n",
        "** basics ann arrays **\n",
        "\n",
        "a numpy array is similar to a list\n",
        "is usually fixed in size and each element is of the same type\n",
        "import numpy as np\n",
        "to create a = np.array()\n",
        "type would be numpy.ndarray\n",
        "x.dtype to obtain the data type of the values\n",
        "x.size , to get the number of elements in the array\n",
        "a.ndim, number of array dimensions\n",
        "a.shape , size of the array in each dimension\n",
        "\n",
        "** indexing and slicing **\n",
        "\n",
        "if we have something like\n",
        "\n",
        "c = np.array([20,2,4,5,4,8,7])\n",
        "\n",
        "we can change the values like\n",
        "c[0] = 100\n",
        "\n",
        "we can slice the numpy array like a list \n",
        "c[1:4]\n",
        "\n",
        "we can change different values as follows\n",
        "c[1:3] = 3,4\n",
        "\n",
        "**Basic operations**\n",
        "vector addtion and substraction\n",
        "if we do u + v , two numpy arrays we are going to get a vector addition of them 1 to 1 , 2 to 2, and so on .\n",
        "\n",
        "array multiplication with a scalar\n",
        "\n",
        "u*2 , multiplacation with a sclar\n",
        "\n",
        "product of two numpy arrays\n",
        "\n",
        "u*v , is the product of 2 numpy arrays\n",
        "\n",
        "dot pruduct is the total of the muyltiplication then a sum of both\n",
        "\n",
        "np.dot(u,v)\n",
        "\n",
        "adding constat to an nympy array\n",
        "\n",
        "if we use\n",
        "\n",
        "z = u + 1 , we are going to add 1 int to each element in the array\n",
        "\n",
        "** universal functions  **\n",
        "\n",
        "a.mean() for an average value of all elements\n",
        "b.max() for maximun  value\n",
        "np.pi\n",
        "np.sin(X) , to each component in the array\n",
        "np.linspace(-10,10,num=20) , so I will obtain 20 numbers evenly spaced from -10 , 10\n",
        "\n",
        "\n",
        "from labs:\n",
        "\n",
        "arr = np.array([1, 2, 3, 4, 5, 6, 7])\n",
        "\n",
        "We can also define the steps in slicing, like this: \\[start\\:end:step].\n",
        "\n",
        "print(arr[1:5:2])\n",
        "\n",
        "We can use the list as an argument in the brackets. The output is the elements corresponding to the particular indexes:\n",
        "select = [0, 2, 3, 4]\n",
        "d = c[select]\n"
      ],
      "metadata": {
        "id": "YA5hsjKmDAUM"
      }
    },
    {
      "cell_type": "markdown",
      "source": [
        "2 dimensional numpy arrays\n",
        "\n",
        "for example if we have the following\n",
        "\n",
        "A=np.array([[11,12],[21,22],[31,32]])\n",
        "\n",
        "it is like a common matrix 2,3\n",
        "we can use the command  x.ndim to get the dimension , it would be 2\n",
        "x.shape returs a tuple with the size of the matrix\n",
        "x.size is the total number of elements\n",
        "we can slice in 2d arrays\n",
        "we can sum matrix using the command + \n",
        "multiply for a scalar is the same process using the operator * per Int\n",
        "multiply matrix is the same x * y\n",
        "array multiplacation is differen than matrix multiplaction \n",
        "1 is just with operator *\n",
        "and the other is with the command np.dot(x,y) but for it we need to assure he have equal number of rows in the first matrix equal to the columns in the second matrix\n",
        "\n"
      ],
      "metadata": {
        "id": "j4VlB0zrUYA3"
      }
    },
    {
      "cell_type": "markdown",
      "source": [
        "Application Program interface (API)⊣\n",
        "\n",
        "we use API to communicate with the api via inputs and outputs\n",
        "pandas is a set of software components\n",
        "if we use pandas , when we use an instance of pandas , pandas will resolve internally and return a result\n",
        "\n",
        "rest apis\n",
        "representational \n",
        "state\n",
        "transfer\n",
        "apis\n",
        "\n",
        "in rest apis we connect to the internet\n",
        "we are the client\n",
        "\n",
        "http methos are a way to transmitting data over the internet\n",
        "sports data is an excellent application of an API\n",
        "\n",
        "we can use and api like this\n",
        "\n",
        "from nbi_api.stats.static import teams\n",
        "nba_teams = teams.get_teams()\n",
        "!pip nbi_api its necessary\n",
        "\n",
        "we can conver dictionaries to lists\n",
        "league finder to find the leages\n",
        "\n",
        "game finder , to get all the games played by a team\n"
      ],
      "metadata": {
        "id": "aHocXr1lXgTO"
      }
    },
    {
      "cell_type": "markdown",
      "source": [
        "API that use some kind of artificial intellingence\n",
        "\n",
        "api to use , watson text to speech API\n",
        "watson language-traslator API\n",
        "\n",
        "API key is the way to access to the API\n",
        "we can use the api key as a secret\n",
        "\n",
        "we need the library ibm_watson and the url\n",
        "we need a key \n",
        "we need a path of the wave document\n",
        "we are interested in the transcript key \n",
        "\n",
        "ibm_watson we need language trasnlator\n",
        "\n",
        "we have limited lenguages\n"
      ],
      "metadata": {
        "id": "ctpy3T5va-9F"
      }
    }
  ]
}